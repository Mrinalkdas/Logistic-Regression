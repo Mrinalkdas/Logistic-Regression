{
 "cells": [
  {
   "cell_type": "code",
   "execution_count": 2,
   "metadata": {},
   "outputs": [
    {
     "name": "stderr",
     "output_type": "stream",
     "text": [
      "E:\\Anaconda3\\lib\\site-packages\\statsmodels\\compat\\pandas.py:56: FutureWarning: The pandas.core.datetools module is deprecated and will be removed in a future version. Please use the pandas.tseries module instead.\n",
      "  from pandas.core import datetools\n"
     ]
    }
   ],
   "source": [
    "import pandas as pd\n",
    "import numpy as np\n",
    "from collections import Counter\n",
    "from datetime import datetime\n",
    "from dateutil import parser\n",
    "import matplotlib.pyplot as plt\n",
    "import calendar\n",
    "from datetime import timedelta\n",
    "\n",
    "import sklearn\n",
    "from sklearn.model_selection import train_test_split\n",
    "from sklearn.linear_model import LogisticRegression\n",
    "from sklearn.feature_selection import RFE\n",
    "import statsmodels.api as sm\n",
    "import scipy.stats as stats\n",
    "from sklearn.ensemble import RandomForestClassifier\n",
    "from sklearn.metrics import classification_report, precision_score, recall_score, accuracy_score\n",
    "from sklearn.preprocessing import StandardScaler"
   ]
  },
  {
   "cell_type": "code",
   "execution_count": 3,
   "metadata": {},
   "outputs": [
    {
     "ename": "FileNotFoundError",
     "evalue": "File b'D:/BlueDart/POC/Data_v5.csv' does not exist",
     "output_type": "error",
     "traceback": [
      "\u001b[1;31m---------------------------------------------------------------------------\u001b[0m",
      "\u001b[1;31mFileNotFoundError\u001b[0m                         Traceback (most recent call last)",
      "\u001b[1;32m<ipython-input-3-bd2d1af8b505>\u001b[0m in \u001b[0;36m<module>\u001b[1;34m()\u001b[0m\n\u001b[1;32m----> 1\u001b[1;33m \u001b[0mdata_df\u001b[0m \u001b[1;33m=\u001b[0m \u001b[0mpd\u001b[0m\u001b[1;33m.\u001b[0m\u001b[0mread_csv\u001b[0m\u001b[1;33m(\u001b[0m\u001b[1;34m'D:/BlueDart/POC/Data_v5.csv'\u001b[0m\u001b[1;33m)\u001b[0m\u001b[1;33m\u001b[0m\u001b[0m\n\u001b[0m\u001b[0;32m      2\u001b[0m \u001b[0mdata_df\u001b[0m\u001b[1;33m.\u001b[0m\u001b[0mhead\u001b[0m\u001b[1;33m(\u001b[0m\u001b[1;33m)\u001b[0m\u001b[1;33m\u001b[0m\u001b[0m\n",
      "\u001b[1;32mE:\\Anaconda3\\lib\\site-packages\\pandas\\io\\parsers.py\u001b[0m in \u001b[0;36mparser_f\u001b[1;34m(filepath_or_buffer, sep, delimiter, header, names, index_col, usecols, squeeze, prefix, mangle_dupe_cols, dtype, engine, converters, true_values, false_values, skipinitialspace, skiprows, nrows, na_values, keep_default_na, na_filter, verbose, skip_blank_lines, parse_dates, infer_datetime_format, keep_date_col, date_parser, dayfirst, iterator, chunksize, compression, thousands, decimal, lineterminator, quotechar, quoting, escapechar, comment, encoding, dialect, tupleize_cols, error_bad_lines, warn_bad_lines, skipfooter, skip_footer, doublequote, delim_whitespace, as_recarray, compact_ints, use_unsigned, low_memory, buffer_lines, memory_map, float_precision)\u001b[0m\n\u001b[0;32m    653\u001b[0m                     skip_blank_lines=skip_blank_lines)\n\u001b[0;32m    654\u001b[0m \u001b[1;33m\u001b[0m\u001b[0m\n\u001b[1;32m--> 655\u001b[1;33m         \u001b[1;32mreturn\u001b[0m \u001b[0m_read\u001b[0m\u001b[1;33m(\u001b[0m\u001b[0mfilepath_or_buffer\u001b[0m\u001b[1;33m,\u001b[0m \u001b[0mkwds\u001b[0m\u001b[1;33m)\u001b[0m\u001b[1;33m\u001b[0m\u001b[0m\n\u001b[0m\u001b[0;32m    656\u001b[0m \u001b[1;33m\u001b[0m\u001b[0m\n\u001b[0;32m    657\u001b[0m     \u001b[0mparser_f\u001b[0m\u001b[1;33m.\u001b[0m\u001b[0m__name__\u001b[0m \u001b[1;33m=\u001b[0m \u001b[0mname\u001b[0m\u001b[1;33m\u001b[0m\u001b[0m\n",
      "\u001b[1;32mE:\\Anaconda3\\lib\\site-packages\\pandas\\io\\parsers.py\u001b[0m in \u001b[0;36m_read\u001b[1;34m(filepath_or_buffer, kwds)\u001b[0m\n\u001b[0;32m    403\u001b[0m \u001b[1;33m\u001b[0m\u001b[0m\n\u001b[0;32m    404\u001b[0m     \u001b[1;31m# Create the parser.\u001b[0m\u001b[1;33m\u001b[0m\u001b[1;33m\u001b[0m\u001b[0m\n\u001b[1;32m--> 405\u001b[1;33m     \u001b[0mparser\u001b[0m \u001b[1;33m=\u001b[0m \u001b[0mTextFileReader\u001b[0m\u001b[1;33m(\u001b[0m\u001b[0mfilepath_or_buffer\u001b[0m\u001b[1;33m,\u001b[0m \u001b[1;33m**\u001b[0m\u001b[0mkwds\u001b[0m\u001b[1;33m)\u001b[0m\u001b[1;33m\u001b[0m\u001b[0m\n\u001b[0m\u001b[0;32m    406\u001b[0m \u001b[1;33m\u001b[0m\u001b[0m\n\u001b[0;32m    407\u001b[0m     \u001b[1;32mif\u001b[0m \u001b[0mchunksize\u001b[0m \u001b[1;32mor\u001b[0m \u001b[0miterator\u001b[0m\u001b[1;33m:\u001b[0m\u001b[1;33m\u001b[0m\u001b[0m\n",
      "\u001b[1;32mE:\\Anaconda3\\lib\\site-packages\\pandas\\io\\parsers.py\u001b[0m in \u001b[0;36m__init__\u001b[1;34m(self, f, engine, **kwds)\u001b[0m\n\u001b[0;32m    762\u001b[0m             \u001b[0mself\u001b[0m\u001b[1;33m.\u001b[0m\u001b[0moptions\u001b[0m\u001b[1;33m[\u001b[0m\u001b[1;34m'has_index_names'\u001b[0m\u001b[1;33m]\u001b[0m \u001b[1;33m=\u001b[0m \u001b[0mkwds\u001b[0m\u001b[1;33m[\u001b[0m\u001b[1;34m'has_index_names'\u001b[0m\u001b[1;33m]\u001b[0m\u001b[1;33m\u001b[0m\u001b[0m\n\u001b[0;32m    763\u001b[0m \u001b[1;33m\u001b[0m\u001b[0m\n\u001b[1;32m--> 764\u001b[1;33m         \u001b[0mself\u001b[0m\u001b[1;33m.\u001b[0m\u001b[0m_make_engine\u001b[0m\u001b[1;33m(\u001b[0m\u001b[0mself\u001b[0m\u001b[1;33m.\u001b[0m\u001b[0mengine\u001b[0m\u001b[1;33m)\u001b[0m\u001b[1;33m\u001b[0m\u001b[0m\n\u001b[0m\u001b[0;32m    765\u001b[0m \u001b[1;33m\u001b[0m\u001b[0m\n\u001b[0;32m    766\u001b[0m     \u001b[1;32mdef\u001b[0m \u001b[0mclose\u001b[0m\u001b[1;33m(\u001b[0m\u001b[0mself\u001b[0m\u001b[1;33m)\u001b[0m\u001b[1;33m:\u001b[0m\u001b[1;33m\u001b[0m\u001b[0m\n",
      "\u001b[1;32mE:\\Anaconda3\\lib\\site-packages\\pandas\\io\\parsers.py\u001b[0m in \u001b[0;36m_make_engine\u001b[1;34m(self, engine)\u001b[0m\n\u001b[0;32m    983\u001b[0m     \u001b[1;32mdef\u001b[0m \u001b[0m_make_engine\u001b[0m\u001b[1;33m(\u001b[0m\u001b[0mself\u001b[0m\u001b[1;33m,\u001b[0m \u001b[0mengine\u001b[0m\u001b[1;33m=\u001b[0m\u001b[1;34m'c'\u001b[0m\u001b[1;33m)\u001b[0m\u001b[1;33m:\u001b[0m\u001b[1;33m\u001b[0m\u001b[0m\n\u001b[0;32m    984\u001b[0m         \u001b[1;32mif\u001b[0m \u001b[0mengine\u001b[0m \u001b[1;33m==\u001b[0m \u001b[1;34m'c'\u001b[0m\u001b[1;33m:\u001b[0m\u001b[1;33m\u001b[0m\u001b[0m\n\u001b[1;32m--> 985\u001b[1;33m             \u001b[0mself\u001b[0m\u001b[1;33m.\u001b[0m\u001b[0m_engine\u001b[0m \u001b[1;33m=\u001b[0m \u001b[0mCParserWrapper\u001b[0m\u001b[1;33m(\u001b[0m\u001b[0mself\u001b[0m\u001b[1;33m.\u001b[0m\u001b[0mf\u001b[0m\u001b[1;33m,\u001b[0m \u001b[1;33m**\u001b[0m\u001b[0mself\u001b[0m\u001b[1;33m.\u001b[0m\u001b[0moptions\u001b[0m\u001b[1;33m)\u001b[0m\u001b[1;33m\u001b[0m\u001b[0m\n\u001b[0m\u001b[0;32m    986\u001b[0m         \u001b[1;32melse\u001b[0m\u001b[1;33m:\u001b[0m\u001b[1;33m\u001b[0m\u001b[0m\n\u001b[0;32m    987\u001b[0m             \u001b[1;32mif\u001b[0m \u001b[0mengine\u001b[0m \u001b[1;33m==\u001b[0m \u001b[1;34m'python'\u001b[0m\u001b[1;33m:\u001b[0m\u001b[1;33m\u001b[0m\u001b[0m\n",
      "\u001b[1;32mE:\\Anaconda3\\lib\\site-packages\\pandas\\io\\parsers.py\u001b[0m in \u001b[0;36m__init__\u001b[1;34m(self, src, **kwds)\u001b[0m\n\u001b[0;32m   1603\u001b[0m         \u001b[0mkwds\u001b[0m\u001b[1;33m[\u001b[0m\u001b[1;34m'allow_leading_cols'\u001b[0m\u001b[1;33m]\u001b[0m \u001b[1;33m=\u001b[0m \u001b[0mself\u001b[0m\u001b[1;33m.\u001b[0m\u001b[0mindex_col\u001b[0m \u001b[1;32mis\u001b[0m \u001b[1;32mnot\u001b[0m \u001b[1;32mFalse\u001b[0m\u001b[1;33m\u001b[0m\u001b[0m\n\u001b[0;32m   1604\u001b[0m \u001b[1;33m\u001b[0m\u001b[0m\n\u001b[1;32m-> 1605\u001b[1;33m         \u001b[0mself\u001b[0m\u001b[1;33m.\u001b[0m\u001b[0m_reader\u001b[0m \u001b[1;33m=\u001b[0m \u001b[0mparsers\u001b[0m\u001b[1;33m.\u001b[0m\u001b[0mTextReader\u001b[0m\u001b[1;33m(\u001b[0m\u001b[0msrc\u001b[0m\u001b[1;33m,\u001b[0m \u001b[1;33m**\u001b[0m\u001b[0mkwds\u001b[0m\u001b[1;33m)\u001b[0m\u001b[1;33m\u001b[0m\u001b[0m\n\u001b[0m\u001b[0;32m   1606\u001b[0m \u001b[1;33m\u001b[0m\u001b[0m\n\u001b[0;32m   1607\u001b[0m         \u001b[1;31m# XXX\u001b[0m\u001b[1;33m\u001b[0m\u001b[1;33m\u001b[0m\u001b[0m\n",
      "\u001b[1;32mpandas/_libs/parsers.pyx\u001b[0m in \u001b[0;36mpandas._libs.parsers.TextReader.__cinit__ (pandas\\_libs\\parsers.c:4209)\u001b[1;34m()\u001b[0m\n",
      "\u001b[1;32mpandas/_libs/parsers.pyx\u001b[0m in \u001b[0;36mpandas._libs.parsers.TextReader._setup_parser_source (pandas\\_libs\\parsers.c:8873)\u001b[1;34m()\u001b[0m\n",
      "\u001b[1;31mFileNotFoundError\u001b[0m: File b'D:/BlueDart/POC/Data_v5.csv' does not exist"
     ]
    }
   ],
   "source": [
    "data_df = pd.read_csv('D:/BlueDart/POC/Data_v5.csv')\n",
    "data_df.head()"
   ]
  },
  {
   "cell_type": "code",
   "execution_count": 3,
   "metadata": {},
   "outputs": [
    {
     "data": {
      "text/plain": [
       "Index(['Run Type', 'NCARNETNO', 'DFLIGHTDT', 'CFLIGHTNO', 'Route', 'CORG',\n",
       "       'O_City_type', 'Org-Reg', 'CDST', 'D_City_type',\n",
       "       ...\n",
       "       'Weekday_Sunday', 'Weekday_Thursday', 'Weekday_Tuesday',\n",
       "       'Weekday_Wednesday', 'Time_Interval_[0, 4)', 'Time_Interval_[4, 8)',\n",
       "       'Time_Interval_[8, 12)', 'Time_Interval_[12, 16)',\n",
       "       'Time_Interval_[16, 20)', 'Time_Interval_[20, 24)'],\n",
       "      dtype='object', length=180)"
      ]
     },
     "execution_count": 3,
     "metadata": {},
     "output_type": "execute_result"
    }
   ],
   "source": [
    "data_df.columns"
   ]
  },
  {
   "cell_type": "code",
   "execution_count": 4,
   "metadata": {
    "collapsed": true
   },
   "outputs": [],
   "source": [
    "# cont_features = ['Distance','Capacity','Pcs','Departure delay']\n",
    "cont_features = ['Distance','Capacity','Pcs']\n",
    "scaler = StandardScaler()\n",
    "scaled_features = pd.DataFrame(scaler.fit_transform(data_df[cont_features]), columns = cont_features)"
   ]
  },
  {
   "cell_type": "code",
   "execution_count": 5,
   "metadata": {},
   "outputs": [
    {
     "data": {
      "text/plain": [
       "(90076, 177)"
      ]
     },
     "execution_count": 5,
     "metadata": {},
     "output_type": "execute_result"
    }
   ],
   "source": [
    "data_df.drop(cont_features, axis = 1, inplace=True)\n",
    "data_df.shape"
   ]
  },
  {
   "cell_type": "code",
   "execution_count": 6,
   "metadata": {},
   "outputs": [
    {
     "data": {
      "text/plain": [
       "(90076, 180)"
      ]
     },
     "execution_count": 6,
     "metadata": {},
     "output_type": "execute_result"
    }
   ],
   "source": [
    "data_df = pd.concat([data_df, scaled_features], axis = 1)\n",
    "data_df.shape"
   ]
  },
  {
   "cell_type": "code",
   "execution_count": 7,
   "metadata": {},
   "outputs": [
    {
     "data": {
      "text/plain": [
       "(39304, 180)"
      ]
     },
     "execution_count": 7,
     "metadata": {},
     "output_type": "execute_result"
    }
   ],
   "source": [
    "data = data_df.loc[(data_df['Delay']>2)| (data_df['Delay']<-2),:]\n",
    "# data = data_df.copy()\n",
    "data = data.reset_index(drop=True)\n",
    "data.shape"
   ]
  },
  {
   "cell_type": "code",
   "execution_count": 8,
   "metadata": {
    "collapsed": true
   },
   "outputs": [],
   "source": [
    "# data = data_df.copy()"
   ]
  },
  {
   "cell_type": "code",
   "execution_count": 9,
   "metadata": {},
   "outputs": [
    {
     "data": {
      "text/plain": [
       "133"
      ]
     },
     "execution_count": 9,
     "metadata": {},
     "output_type": "execute_result"
    }
   ],
   "source": [
    "cat_features = ['Run Type_AIRNET', 'Run Type_SFC', 'Run Type_SPEED', 'TYPE_MXL', 'TYPE_SXL',\n",
    "                'Crit_40-50%', 'Crit_50-60%', 'Crit_60-70%', 'Crit_<40%', 'Crit_>70%', \n",
    "                'Intra/Inter_Inter',\n",
    "                'CCONTTYPE_B', 'CCONTTYPE_C','Sch/NSch/Spl_Sch Run', 'Sch/NSch/Spl_Spl Run', 'O_D_EAST-EAST',\n",
    "                'O_D_EAST-NORTH', 'O_D_EAST-SOUTH1','O_D_EAST-SOUTH2', 'O_D_EAST-WEST1', 'O_D_EAST-WEST2', \n",
    "                'O_D_NORTH-EAST', 'O_D_NORTH-NORTH', 'O_D_NORTH-SOUTH1','O_D_NORTH-SOUTH2',\n",
    "                'O_D_NORTH-WEST1', 'O_D_NORTH-WEST2', 'O_D_SOUTH1-EAST', 'O_D_SOUTH1-NORTH', 'O_D_SOUTH1-SOUTH1',\n",
    "                'O_D_SOUTH1-SOUTH2', 'O_D_SOUTH1-WEST1', 'O_D_SOUTH1-WEST2', 'O_D_SOUTH2-EAST', 'O_D_SOUTH2-NORTH', 'O_D_SOUTH2-SOUTH1',\n",
    "                'O_D_SOUTH2-SOUTH2', 'O_D_SOUTH2-WEST1', 'O_D_SOUTH2-WEST2', 'O_D_WEST1-EAST', 'O_D_WEST1-NORTH', 'O_D_WEST1-SOUTH1',\n",
    "                'O_D_WEST1-SOUTH2', 'O_D_WEST1-WEST1', 'O_D_WEST1-WEST2', 'O_D_WEST2-EAST', 'O_D_WEST2-NORTH', 'O_D_WEST2-SOUTH1',\n",
    "                'O_D_WEST2-SOUTH2', 'O_D_WEST2-WEST1', 'O_D_WEST2-WEST2', 'Imp_Routes_ADL', 'Imp_Routes_AVPWBBA', 'Imp_Routes_BAM',\n",
    "                'Imp_Routes_BBL', 'Imp_Routes_BCO', 'Imp_Routes_BTM', 'Imp_Routes_BTR', 'Imp_Routes_BTS', 'Imp_Routes_COB',\n",
    "                'Imp_Routes_GBT', 'Imp_Routes_GVH', 'Imp_Routes_GXK', 'Imp_Routes_IBP', 'Imp_Routes_KSG', 'Imp_Routes_LAM', \n",
    "                'Imp_Routes_MOB', 'Imp_Routes_NAC', 'Imp_Routes_Others', 'Imp_Routes_PQB', 'Imp_Routes_STC', 'Imp_Routes_TRB',\n",
    "                'Imp_Vendors_ABC10', 'Imp_Vendors_ABC12', 'Imp_Vendors_ABC124', 'Imp_Vendors_ABC15', 'Imp_Vendors_ABC180',\n",
    "                'Imp_Vendors_ABC211', 'Imp_Vendors_ABC251', 'Imp_Vendors_ABC27', 'Imp_Vendors_ABC31', 'Imp_Vendors_ABC34', \n",
    "                'Imp_Vendors_ABC36', 'Imp_Vendors_ABC49', 'Imp_Vendors_ABC51', 'Imp_Vendors_ABC54', 'Imp_Vendors_ABC57', \n",
    "                'Imp_Vendors_ABC58', 'Imp_Vendors_ABC60', 'Imp_Vendors_ABC69', 'Imp_Vendors_ABC78', 'Imp_Vendors_ABC85', \n",
    "                'Imp_Vendors_ABC9', 'Imp_Vendors_ABC97', 'Imp_Vendors_Others', 'Imp_CVEHTYPE_H20', 'Imp_CVEHTYPE_H24',\n",
    "                'Imp_CVEHTYPE_L10', 'Imp_CVEHTYPE_L14', 'Imp_CVEHTYPE_L17', 'Imp_CVEHTYPE_LCV', 'Imp_CVEHTYPE_M17',\n",
    "                'Imp_CVEHTYPE_M18', 'Imp_CVEHTYPE_M19', 'Imp_CVEHTYPE_M20', 'Imp_CVEHTYPE_MXL', 'Imp_CVEHTYPE_Others',\n",
    "                'Imp_CVEHTYPE_VAN', 'O_D_city_type_Metro/Metro', 'O_D_city_type_Metro/Non-Metro', 'O_D_city_type_Non-Metro/Metro',\n",
    "                'O_D_city_type_Non-Metro/Non-Metro', 'Month_1', 'Month_2', 'Month_3', 'Month_4', 'Month_5', 'Month_6', 'Month_7',\n",
    "                'Month_8', 'Weekday_Friday', 'Weekday_Monday', 'Weekday_Saturday', 'Weekday_Sunday', 'Weekday_Thursday', 'Weekday_Tuesday',\n",
    "                'Weekday_Wednesday', 'Time_Interval_[0, 4)','Time_Interval_[4, 8)', 'Time_Interval_[8, 12)',\n",
    "                'Time_Interval_[12, 16)', 'Time_Interval_[16, 20)', 'Time_Interval_[20, 24)']\n",
    "len(cat_features)"
   ]
  },
  {
   "cell_type": "code",
   "execution_count": 10,
   "metadata": {},
   "outputs": [],
   "source": [
    "column_list = cat_features + cont_features\n",
    "\n",
    "X = data[column_list]\n",
    "y = data['Delay_Flag']"
   ]
  },
  {
   "cell_type": "code",
   "execution_count": 11,
   "metadata": {},
   "outputs": [
    {
     "data": {
      "text/plain": [
       "(39304, 136)"
      ]
     },
     "execution_count": 11,
     "metadata": {},
     "output_type": "execute_result"
    }
   ],
   "source": [
    "X.shape"
   ]
  },
  {
   "cell_type": "code",
   "execution_count": 12,
   "metadata": {},
   "outputs": [
    {
     "data": {
      "text/plain": [
       "RandomForestClassifier(bootstrap=True, class_weight=None, criterion='gini',\n",
       "            max_depth=6, max_features='auto', max_leaf_nodes=None,\n",
       "            min_impurity_decrease=0.0, min_impurity_split=None,\n",
       "            min_samples_leaf=1, min_samples_split=2,\n",
       "            min_weight_fraction_leaf=0.0, n_estimators=50, n_jobs=1,\n",
       "            oob_score=False, random_state=0, verbose=0, warm_start=False)"
      ]
     },
     "execution_count": 12,
     "metadata": {},
     "output_type": "execute_result"
    }
   ],
   "source": [
    "rf = RandomForestClassifier(n_estimators=50, max_depth = 6, random_state = 0)\n",
    "rf.fit(X,y)"
   ]
  },
  {
   "cell_type": "code",
   "execution_count": 13,
   "metadata": {},
   "outputs": [
    {
     "name": "stdout",
     "output_type": "stream",
     "text": [
      "             precision    recall  f1-score   support\n",
      "\n",
      "          0       0.90      0.27      0.42     16204\n",
      "          1       0.66      0.98      0.79     23100\n",
      "\n",
      "avg / total       0.76      0.69      0.63     39304\n",
      "\n"
     ]
    }
   ],
   "source": [
    "print(classification_report(y, rf.predict(X)))"
   ]
  },
  {
   "cell_type": "code",
   "execution_count": 14,
   "metadata": {},
   "outputs": [
    {
     "name": "stdout",
     "output_type": "stream",
     "text": [
      "Imp_Vendors_ABC10                0.124833\n",
      "Imp_Routes_Others                0.100034\n",
      "Distance                         0.064843\n",
      "Imp_Vendors_ABC15                0.052752\n",
      "Run Type_SPEED                   0.040343\n",
      "O_D_SOUTH2-SOUTH2                0.037889\n",
      "Imp_Vendors_ABC60                0.034508\n",
      "Run Type_SFC                     0.031967\n",
      "Intra/Inter_Inter                0.023544\n",
      "O_D_city_type_Non-Metro/Metro    0.023324\n",
      "O_D_WEST1-SOUTH2                 0.022919\n",
      "Sch/NSch/Spl_Sch Run             0.022041\n",
      "Time_Interval_[20, 24)           0.021403\n",
      "Imp_Vendors_ABC85                0.017875\n",
      "Capacity                         0.017609\n",
      "Imp_Routes_BCO                   0.016652\n",
      "Imp_Routes_STC                   0.016174\n",
      "Imp_Routes_BBL                   0.015441\n",
      "O_D_city_type_Metro/Non-Metro    0.015318\n",
      "O_D_NORTH-SOUTH1                 0.015289\n",
      "dtype: float64\n"
     ]
    }
   ],
   "source": [
    "columns = list(pd.Series(rf.feature_importances_, X.columns).sort_values(ascending = False)[:20].index)\n",
    "print(pd.Series(rf.feature_importances_, X.columns).sort_values(ascending = False)[:20])"
   ]
  },
  {
   "cell_type": "code",
   "execution_count": 15,
   "metadata": {},
   "outputs": [
    {
     "data": {
      "text/plain": [
       "20"
      ]
     },
     "execution_count": 15,
     "metadata": {},
     "output_type": "execute_result"
    }
   ],
   "source": [
    "# columns.remove('Intra/Inter_Inter')\n",
    "# columns.remove('Sch/NSch/Spl_Sch Run')\n",
    "# columns.remove('Run Type_SFC')\n",
    "# columns.remove('Imp_CVEHTYPE_H24')\n",
    "# columns.remove('Capacity')\n",
    "# columns.remove('O_D_city_type_Non-Metro/Metro')\n",
    "len(columns)"
   ]
  },
  {
   "cell_type": "code",
   "execution_count": 16,
   "metadata": {},
   "outputs": [
    {
     "data": {
      "text/plain": [
       "(39304, 20)"
      ]
     },
     "execution_count": 16,
     "metadata": {},
     "output_type": "execute_result"
    }
   ],
   "source": [
    "X = X[columns]\n",
    "X.shape"
   ]
  },
  {
   "cell_type": "code",
   "execution_count": 17,
   "metadata": {},
   "outputs": [
    {
     "data": {
      "text/plain": [
       "((27512, 20), (11792, 20), (27512,), (11792,))"
      ]
     },
     "execution_count": 17,
     "metadata": {},
     "output_type": "execute_result"
    }
   ],
   "source": [
    "X_train, X_test, y_train, y_test = train_test_split(X, y, test_size=0.3, random_state=0,stratify=y)\n",
    "X_train.shape, X_test.shape, y_train.shape, y_test.shape"
   ]
  },
  {
   "cell_type": "code",
   "execution_count": 18,
   "metadata": {},
   "outputs": [
    {
     "data": {
      "text/plain": [
       "(0.5876865671641791, 0.5877435300959581)"
      ]
     },
     "execution_count": 18,
     "metadata": {},
     "output_type": "execute_result"
    }
   ],
   "source": [
    "sum(y_test)/len(y_test), sum(y_train)/len(y_train)"
   ]
  },
  {
   "cell_type": "code",
   "execution_count": 20,
   "metadata": {
    "collapsed": true
   },
   "outputs": [],
   "source": [
    "model_name = '12102018/Model_ND2_D2_20Var_Standard_noDD'"
   ]
  },
  {
   "cell_type": "code",
   "execution_count": 21,
   "metadata": {},
   "outputs": [
    {
     "name": "stdout",
     "output_type": "stream",
     "text": [
      "Optimization terminated successfully.\n",
      "         Current function value: 0.578196\n",
      "         Iterations 9\n"
     ]
    },
    {
     "data": {
      "text/html": [
       "<table class=\"simpletable\">\n",
       "<caption>Logit Regression Results</caption>\n",
       "<tr>\n",
       "  <th>Dep. Variable:</th>    <td>Delay_Flag</td>    <th>  No. Observations:  </th>  <td> 27512</td> \n",
       "</tr>\n",
       "<tr>\n",
       "  <th>Model:</th>               <td>Logit</td>      <th>  Df Residuals:      </th>  <td> 27492</td> \n",
       "</tr>\n",
       "<tr>\n",
       "  <th>Method:</th>               <td>MLE</td>       <th>  Df Model:          </th>  <td>    19</td> \n",
       "</tr>\n",
       "<tr>\n",
       "  <th>Date:</th>          <td>Thu, 13 Dec 2018</td> <th>  Pseudo R-squ.:     </th>  <td>0.1468</td> \n",
       "</tr>\n",
       "<tr>\n",
       "  <th>Time:</th>              <td>11:48:19</td>     <th>  Log-Likelihood:    </th> <td> -15907.</td>\n",
       "</tr>\n",
       "<tr>\n",
       "  <th>converged:</th>           <td>True</td>       <th>  LL-Null:           </th> <td> -18644.</td>\n",
       "</tr>\n",
       "<tr>\n",
       "  <th> </th>                      <td> </td>        <th>  LLR p-value:       </th>  <td> 0.000</td> \n",
       "</tr>\n",
       "</table>\n",
       "<table class=\"simpletable\">\n",
       "<tr>\n",
       "                <td></td>                   <th>coef</th>     <th>std err</th>      <th>z</th>      <th>P>|z|</th>  <th>[0.025</th>    <th>0.975]</th>  \n",
       "</tr>\n",
       "<tr>\n",
       "  <th>Imp_Vendors_ABC10</th>             <td>   -1.8549</td> <td>    0.090</td> <td>  -20.497</td> <td> 0.000</td> <td>   -2.032</td> <td>   -1.678</td>\n",
       "</tr>\n",
       "<tr>\n",
       "  <th>Imp_Routes_Others</th>             <td>    1.4225</td> <td>    0.064</td> <td>   22.268</td> <td> 0.000</td> <td>    1.297</td> <td>    1.548</td>\n",
       "</tr>\n",
       "<tr>\n",
       "  <th>Distance</th>                      <td>   -0.1659</td> <td>    0.020</td> <td>   -8.119</td> <td> 0.000</td> <td>   -0.206</td> <td>   -0.126</td>\n",
       "</tr>\n",
       "<tr>\n",
       "  <th>Imp_Vendors_ABC15</th>             <td>   -2.7222</td> <td>    0.151</td> <td>  -18.041</td> <td> 0.000</td> <td>   -3.018</td> <td>   -2.426</td>\n",
       "</tr>\n",
       "<tr>\n",
       "  <th>Run Type_SPEED</th>                <td>    0.6914</td> <td>    0.083</td> <td>    8.358</td> <td> 0.000</td> <td>    0.529</td> <td>    0.853</td>\n",
       "</tr>\n",
       "<tr>\n",
       "  <th>O_D_SOUTH2-SOUTH2</th>             <td>   -0.4262</td> <td>    0.065</td> <td>   -6.559</td> <td> 0.000</td> <td>   -0.554</td> <td>   -0.299</td>\n",
       "</tr>\n",
       "<tr>\n",
       "  <th>Imp_Vendors_ABC60</th>             <td>    3.5495</td> <td>    0.338</td> <td>   10.505</td> <td> 0.000</td> <td>    2.887</td> <td>    4.212</td>\n",
       "</tr>\n",
       "<tr>\n",
       "  <th>Run Type_SFC</th>                  <td>   -0.4055</td> <td>    0.067</td> <td>   -6.063</td> <td> 0.000</td> <td>   -0.537</td> <td>   -0.274</td>\n",
       "</tr>\n",
       "<tr>\n",
       "  <th>Intra/Inter_Inter</th>             <td>   -0.1933</td> <td>    0.045</td> <td>   -4.252</td> <td> 0.000</td> <td>   -0.282</td> <td>   -0.104</td>\n",
       "</tr>\n",
       "<tr>\n",
       "  <th>O_D_city_type_Non-Metro/Metro</th> <td>   -0.2031</td> <td>    0.035</td> <td>   -5.826</td> <td> 0.000</td> <td>   -0.271</td> <td>   -0.135</td>\n",
       "</tr>\n",
       "<tr>\n",
       "  <th>O_D_WEST1-SOUTH2</th>              <td>    1.0827</td> <td>    0.111</td> <td>    9.776</td> <td> 0.000</td> <td>    0.866</td> <td>    1.300</td>\n",
       "</tr>\n",
       "<tr>\n",
       "  <th>Sch/NSch/Spl_Sch Run</th>          <td>   -0.5032</td> <td>    0.030</td> <td>  -16.987</td> <td> 0.000</td> <td>   -0.561</td> <td>   -0.445</td>\n",
       "</tr>\n",
       "<tr>\n",
       "  <th>Time_Interval_[20, 24)</th>        <td>   -0.5364</td> <td>    0.037</td> <td>  -14.434</td> <td> 0.000</td> <td>   -0.609</td> <td>   -0.464</td>\n",
       "</tr>\n",
       "<tr>\n",
       "  <th>Imp_Vendors_ABC85</th>             <td>   -5.3406</td> <td>    1.005</td> <td>   -5.315</td> <td> 0.000</td> <td>   -7.310</td> <td>   -3.371</td>\n",
       "</tr>\n",
       "<tr>\n",
       "  <th>Capacity</th>                      <td>    0.1380</td> <td>    0.020</td> <td>    7.041</td> <td> 0.000</td> <td>    0.100</td> <td>    0.176</td>\n",
       "</tr>\n",
       "<tr>\n",
       "  <th>Imp_Routes_BCO</th>                <td>   -1.5735</td> <td>    0.211</td> <td>   -7.443</td> <td> 0.000</td> <td>   -1.988</td> <td>   -1.159</td>\n",
       "</tr>\n",
       "<tr>\n",
       "  <th>Imp_Routes_STC</th>                <td>   -1.3637</td> <td>    0.259</td> <td>   -5.272</td> <td> 0.000</td> <td>   -1.871</td> <td>   -0.857</td>\n",
       "</tr>\n",
       "<tr>\n",
       "  <th>Imp_Routes_BBL</th>                <td>    3.4370</td> <td>    0.344</td> <td>    9.980</td> <td> 0.000</td> <td>    2.762</td> <td>    4.112</td>\n",
       "</tr>\n",
       "<tr>\n",
       "  <th>O_D_city_type_Metro/Non-Metro</th> <td>    0.3550</td> <td>    0.035</td> <td>   10.279</td> <td> 0.000</td> <td>    0.287</td> <td>    0.423</td>\n",
       "</tr>\n",
       "<tr>\n",
       "  <th>O_D_NORTH-SOUTH1</th>              <td>   -0.8709</td> <td>    0.072</td> <td>  -12.074</td> <td> 0.000</td> <td>   -1.012</td> <td>   -0.730</td>\n",
       "</tr>\n",
       "</table>"
      ],
      "text/plain": [
       "<class 'statsmodels.iolib.summary.Summary'>\n",
       "\"\"\"\n",
       "                           Logit Regression Results                           \n",
       "==============================================================================\n",
       "Dep. Variable:             Delay_Flag   No. Observations:                27512\n",
       "Model:                          Logit   Df Residuals:                    27492\n",
       "Method:                           MLE   Df Model:                           19\n",
       "Date:                Thu, 13 Dec 2018   Pseudo R-squ.:                  0.1468\n",
       "Time:                        11:48:19   Log-Likelihood:                -15907.\n",
       "converged:                       True   LL-Null:                       -18644.\n",
       "                                        LLR p-value:                     0.000\n",
       "=================================================================================================\n",
       "                                    coef    std err          z      P>|z|      [0.025      0.975]\n",
       "-------------------------------------------------------------------------------------------------\n",
       "Imp_Vendors_ABC10                -1.8549      0.090    -20.497      0.000      -2.032      -1.678\n",
       "Imp_Routes_Others                 1.4225      0.064     22.268      0.000       1.297       1.548\n",
       "Distance                         -0.1659      0.020     -8.119      0.000      -0.206      -0.126\n",
       "Imp_Vendors_ABC15                -2.7222      0.151    -18.041      0.000      -3.018      -2.426\n",
       "Run Type_SPEED                    0.6914      0.083      8.358      0.000       0.529       0.853\n",
       "O_D_SOUTH2-SOUTH2                -0.4262      0.065     -6.559      0.000      -0.554      -0.299\n",
       "Imp_Vendors_ABC60                 3.5495      0.338     10.505      0.000       2.887       4.212\n",
       "Run Type_SFC                     -0.4055      0.067     -6.063      0.000      -0.537      -0.274\n",
       "Intra/Inter_Inter                -0.1933      0.045     -4.252      0.000      -0.282      -0.104\n",
       "O_D_city_type_Non-Metro/Metro    -0.2031      0.035     -5.826      0.000      -0.271      -0.135\n",
       "O_D_WEST1-SOUTH2                  1.0827      0.111      9.776      0.000       0.866       1.300\n",
       "Sch/NSch/Spl_Sch Run             -0.5032      0.030    -16.987      0.000      -0.561      -0.445\n",
       "Time_Interval_[20, 24)           -0.5364      0.037    -14.434      0.000      -0.609      -0.464\n",
       "Imp_Vendors_ABC85                -5.3406      1.005     -5.315      0.000      -7.310      -3.371\n",
       "Capacity                          0.1380      0.020      7.041      0.000       0.100       0.176\n",
       "Imp_Routes_BCO                   -1.5735      0.211     -7.443      0.000      -1.988      -1.159\n",
       "Imp_Routes_STC                   -1.3637      0.259     -5.272      0.000      -1.871      -0.857\n",
       "Imp_Routes_BBL                    3.4370      0.344      9.980      0.000       2.762       4.112\n",
       "O_D_city_type_Metro/Non-Metro     0.3550      0.035     10.279      0.000       0.287       0.423\n",
       "O_D_NORTH-SOUTH1                 -0.8709      0.072    -12.074      0.000      -1.012      -0.730\n",
       "=================================================================================================\n",
       "\"\"\""
      ]
     },
     "execution_count": 21,
     "metadata": {},
     "output_type": "execute_result"
    }
   ],
   "source": [
    "model = sm.Logit(y_train, X_train, random_state = 1)\n",
    "result = model.fit(maxiter = 100)\n",
    "result.summary()"
   ]
  },
  {
   "cell_type": "code",
   "execution_count": 22,
   "metadata": {},
   "outputs": [],
   "source": [
    "while (max(result.pvalues[pd.notnull(result.pvalues)]) > 0.05):\n",
    "    col_rem = list(result.pvalues[result.pvalues == max(result.pvalues[pd.notnull(result.pvalues)])].index)\n",
    "    print('Column Removed:',col_rem)\n",
    "    cols = [c for c in X_train.columns if c not in col_rem]\n",
    "    X_train = X_train[cols]\n",
    "    model = sm.Logit(y_train, X_train, random_state = 1)\n",
    "    result = model.fit(maxiter = 100)"
   ]
  },
  {
   "cell_type": "code",
   "execution_count": 23,
   "metadata": {},
   "outputs": [
    {
     "data": {
      "text/html": [
       "<table class=\"simpletable\">\n",
       "<caption>Logit Regression Results</caption>\n",
       "<tr>\n",
       "  <th>Dep. Variable:</th>    <td>Delay_Flag</td>    <th>  No. Observations:  </th>  <td> 27512</td> \n",
       "</tr>\n",
       "<tr>\n",
       "  <th>Model:</th>               <td>Logit</td>      <th>  Df Residuals:      </th>  <td> 27492</td> \n",
       "</tr>\n",
       "<tr>\n",
       "  <th>Method:</th>               <td>MLE</td>       <th>  Df Model:          </th>  <td>    19</td> \n",
       "</tr>\n",
       "<tr>\n",
       "  <th>Date:</th>          <td>Thu, 13 Dec 2018</td> <th>  Pseudo R-squ.:     </th>  <td>0.1468</td> \n",
       "</tr>\n",
       "<tr>\n",
       "  <th>Time:</th>              <td>11:48:20</td>     <th>  Log-Likelihood:    </th> <td> -15907.</td>\n",
       "</tr>\n",
       "<tr>\n",
       "  <th>converged:</th>           <td>True</td>       <th>  LL-Null:           </th> <td> -18644.</td>\n",
       "</tr>\n",
       "<tr>\n",
       "  <th> </th>                      <td> </td>        <th>  LLR p-value:       </th>  <td> 0.000</td> \n",
       "</tr>\n",
       "</table>\n",
       "<table class=\"simpletable\">\n",
       "<tr>\n",
       "                <td></td>                   <th>coef</th>     <th>std err</th>      <th>z</th>      <th>P>|z|</th>  <th>[0.025</th>    <th>0.975]</th>  \n",
       "</tr>\n",
       "<tr>\n",
       "  <th>Imp_Vendors_ABC10</th>             <td>   -1.8549</td> <td>    0.090</td> <td>  -20.497</td> <td> 0.000</td> <td>   -2.032</td> <td>   -1.678</td>\n",
       "</tr>\n",
       "<tr>\n",
       "  <th>Imp_Routes_Others</th>             <td>    1.4225</td> <td>    0.064</td> <td>   22.268</td> <td> 0.000</td> <td>    1.297</td> <td>    1.548</td>\n",
       "</tr>\n",
       "<tr>\n",
       "  <th>Distance</th>                      <td>   -0.1659</td> <td>    0.020</td> <td>   -8.119</td> <td> 0.000</td> <td>   -0.206</td> <td>   -0.126</td>\n",
       "</tr>\n",
       "<tr>\n",
       "  <th>Imp_Vendors_ABC15</th>             <td>   -2.7222</td> <td>    0.151</td> <td>  -18.041</td> <td> 0.000</td> <td>   -3.018</td> <td>   -2.426</td>\n",
       "</tr>\n",
       "<tr>\n",
       "  <th>Run Type_SPEED</th>                <td>    0.6914</td> <td>    0.083</td> <td>    8.358</td> <td> 0.000</td> <td>    0.529</td> <td>    0.853</td>\n",
       "</tr>\n",
       "<tr>\n",
       "  <th>O_D_SOUTH2-SOUTH2</th>             <td>   -0.4262</td> <td>    0.065</td> <td>   -6.559</td> <td> 0.000</td> <td>   -0.554</td> <td>   -0.299</td>\n",
       "</tr>\n",
       "<tr>\n",
       "  <th>Imp_Vendors_ABC60</th>             <td>    3.5495</td> <td>    0.338</td> <td>   10.505</td> <td> 0.000</td> <td>    2.887</td> <td>    4.212</td>\n",
       "</tr>\n",
       "<tr>\n",
       "  <th>Run Type_SFC</th>                  <td>   -0.4055</td> <td>    0.067</td> <td>   -6.063</td> <td> 0.000</td> <td>   -0.537</td> <td>   -0.274</td>\n",
       "</tr>\n",
       "<tr>\n",
       "  <th>Intra/Inter_Inter</th>             <td>   -0.1933</td> <td>    0.045</td> <td>   -4.252</td> <td> 0.000</td> <td>   -0.282</td> <td>   -0.104</td>\n",
       "</tr>\n",
       "<tr>\n",
       "  <th>O_D_city_type_Non-Metro/Metro</th> <td>   -0.2031</td> <td>    0.035</td> <td>   -5.826</td> <td> 0.000</td> <td>   -0.271</td> <td>   -0.135</td>\n",
       "</tr>\n",
       "<tr>\n",
       "  <th>O_D_WEST1-SOUTH2</th>              <td>    1.0827</td> <td>    0.111</td> <td>    9.776</td> <td> 0.000</td> <td>    0.866</td> <td>    1.300</td>\n",
       "</tr>\n",
       "<tr>\n",
       "  <th>Sch/NSch/Spl_Sch Run</th>          <td>   -0.5032</td> <td>    0.030</td> <td>  -16.987</td> <td> 0.000</td> <td>   -0.561</td> <td>   -0.445</td>\n",
       "</tr>\n",
       "<tr>\n",
       "  <th>Time_Interval_[20, 24)</th>        <td>   -0.5364</td> <td>    0.037</td> <td>  -14.434</td> <td> 0.000</td> <td>   -0.609</td> <td>   -0.464</td>\n",
       "</tr>\n",
       "<tr>\n",
       "  <th>Imp_Vendors_ABC85</th>             <td>   -5.3406</td> <td>    1.005</td> <td>   -5.315</td> <td> 0.000</td> <td>   -7.310</td> <td>   -3.371</td>\n",
       "</tr>\n",
       "<tr>\n",
       "  <th>Capacity</th>                      <td>    0.1380</td> <td>    0.020</td> <td>    7.041</td> <td> 0.000</td> <td>    0.100</td> <td>    0.176</td>\n",
       "</tr>\n",
       "<tr>\n",
       "  <th>Imp_Routes_BCO</th>                <td>   -1.5735</td> <td>    0.211</td> <td>   -7.443</td> <td> 0.000</td> <td>   -1.988</td> <td>   -1.159</td>\n",
       "</tr>\n",
       "<tr>\n",
       "  <th>Imp_Routes_STC</th>                <td>   -1.3637</td> <td>    0.259</td> <td>   -5.272</td> <td> 0.000</td> <td>   -1.871</td> <td>   -0.857</td>\n",
       "</tr>\n",
       "<tr>\n",
       "  <th>Imp_Routes_BBL</th>                <td>    3.4370</td> <td>    0.344</td> <td>    9.980</td> <td> 0.000</td> <td>    2.762</td> <td>    4.112</td>\n",
       "</tr>\n",
       "<tr>\n",
       "  <th>O_D_city_type_Metro/Non-Metro</th> <td>    0.3550</td> <td>    0.035</td> <td>   10.279</td> <td> 0.000</td> <td>    0.287</td> <td>    0.423</td>\n",
       "</tr>\n",
       "<tr>\n",
       "  <th>O_D_NORTH-SOUTH1</th>              <td>   -0.8709</td> <td>    0.072</td> <td>  -12.074</td> <td> 0.000</td> <td>   -1.012</td> <td>   -0.730</td>\n",
       "</tr>\n",
       "</table>"
      ],
      "text/plain": [
       "<class 'statsmodels.iolib.summary.Summary'>\n",
       "\"\"\"\n",
       "                           Logit Regression Results                           \n",
       "==============================================================================\n",
       "Dep. Variable:             Delay_Flag   No. Observations:                27512\n",
       "Model:                          Logit   Df Residuals:                    27492\n",
       "Method:                           MLE   Df Model:                           19\n",
       "Date:                Thu, 13 Dec 2018   Pseudo R-squ.:                  0.1468\n",
       "Time:                        11:48:20   Log-Likelihood:                -15907.\n",
       "converged:                       True   LL-Null:                       -18644.\n",
       "                                        LLR p-value:                     0.000\n",
       "=================================================================================================\n",
       "                                    coef    std err          z      P>|z|      [0.025      0.975]\n",
       "-------------------------------------------------------------------------------------------------\n",
       "Imp_Vendors_ABC10                -1.8549      0.090    -20.497      0.000      -2.032      -1.678\n",
       "Imp_Routes_Others                 1.4225      0.064     22.268      0.000       1.297       1.548\n",
       "Distance                         -0.1659      0.020     -8.119      0.000      -0.206      -0.126\n",
       "Imp_Vendors_ABC15                -2.7222      0.151    -18.041      0.000      -3.018      -2.426\n",
       "Run Type_SPEED                    0.6914      0.083      8.358      0.000       0.529       0.853\n",
       "O_D_SOUTH2-SOUTH2                -0.4262      0.065     -6.559      0.000      -0.554      -0.299\n",
       "Imp_Vendors_ABC60                 3.5495      0.338     10.505      0.000       2.887       4.212\n",
       "Run Type_SFC                     -0.4055      0.067     -6.063      0.000      -0.537      -0.274\n",
       "Intra/Inter_Inter                -0.1933      0.045     -4.252      0.000      -0.282      -0.104\n",
       "O_D_city_type_Non-Metro/Metro    -0.2031      0.035     -5.826      0.000      -0.271      -0.135\n",
       "O_D_WEST1-SOUTH2                  1.0827      0.111      9.776      0.000       0.866       1.300\n",
       "Sch/NSch/Spl_Sch Run             -0.5032      0.030    -16.987      0.000      -0.561      -0.445\n",
       "Time_Interval_[20, 24)           -0.5364      0.037    -14.434      0.000      -0.609      -0.464\n",
       "Imp_Vendors_ABC85                -5.3406      1.005     -5.315      0.000      -7.310      -3.371\n",
       "Capacity                          0.1380      0.020      7.041      0.000       0.100       0.176\n",
       "Imp_Routes_BCO                   -1.5735      0.211     -7.443      0.000      -1.988      -1.159\n",
       "Imp_Routes_STC                   -1.3637      0.259     -5.272      0.000      -1.871      -0.857\n",
       "Imp_Routes_BBL                    3.4370      0.344      9.980      0.000       2.762       4.112\n",
       "O_D_city_type_Metro/Non-Metro     0.3550      0.035     10.279      0.000       0.287       0.423\n",
       "O_D_NORTH-SOUTH1                 -0.8709      0.072    -12.074      0.000      -1.012      -0.730\n",
       "=================================================================================================\n",
       "\"\"\""
      ]
     },
     "execution_count": 23,
     "metadata": {},
     "output_type": "execute_result"
    }
   ],
   "source": [
    "result.summary()"
   ]
  },
  {
   "cell_type": "code",
   "execution_count": 24,
   "metadata": {},
   "outputs": [
    {
     "data": {
      "text/plain": [
       "LogisticRegression(C=1.0, class_weight=None, dual=False, fit_intercept=True,\n",
       "          intercept_scaling=1, max_iter=100, multi_class='ovr', n_jobs=1,\n",
       "          penalty='l2', random_state=1, solver='liblinear', tol=0.0001,\n",
       "          verbose=0, warm_start=False)"
      ]
     },
     "execution_count": 24,
     "metadata": {},
     "output_type": "execute_result"
    }
   ],
   "source": [
    "logreg = LogisticRegression(random_state = 1)\n",
    "logreg.fit(X_train, y_train)"
   ]
  },
  {
   "cell_type": "code",
   "execution_count": 25,
   "metadata": {},
   "outputs": [],
   "source": [
    "coeff_df = pd.DataFrame({'Feature' : X_train.columns,'Beta_Coeff':logreg.coef_[0]})\n",
    "coeff_df = coeff_df.append({'Feature':'Intercept','Beta_Coeff':logreg.intercept_[0]}, ignore_index=True)\n",
    "coeff_df.to_csv('D:/BlueDart/POC/Model_Iterations/Final Model/'+model_name + '_coeff.csv', index = False)"
   ]
  },
  {
   "cell_type": "code",
   "execution_count": 27,
   "metadata": {},
   "outputs": [
    {
     "data": {
      "text/html": [
       "<div>\n",
       "<style>\n",
       "    .dataframe thead tr:only-child th {\n",
       "        text-align: right;\n",
       "    }\n",
       "\n",
       "    .dataframe thead th {\n",
       "        text-align: left;\n",
       "    }\n",
       "\n",
       "    .dataframe tbody tr th {\n",
       "        vertical-align: top;\n",
       "    }\n",
       "</style>\n",
       "<table border=\"1\" class=\"dataframe\">\n",
       "  <thead>\n",
       "    <tr style=\"text-align: right;\">\n",
       "      <th></th>\n",
       "      <th>Beta_Coeff</th>\n",
       "      <th>Feature</th>\n",
       "    </tr>\n",
       "  </thead>\n",
       "  <tbody>\n",
       "    <tr>\n",
       "      <th>0</th>\n",
       "      <td>-1.816401</td>\n",
       "      <td>Imp_Vendors_ABC10</td>\n",
       "    </tr>\n",
       "    <tr>\n",
       "      <th>1</th>\n",
       "      <td>1.526639</td>\n",
       "      <td>Imp_Routes_Others</td>\n",
       "    </tr>\n",
       "    <tr>\n",
       "      <th>2</th>\n",
       "      <td>-0.175120</td>\n",
       "      <td>Distance</td>\n",
       "    </tr>\n",
       "    <tr>\n",
       "      <th>3</th>\n",
       "      <td>-2.680985</td>\n",
       "      <td>Imp_Vendors_ABC15</td>\n",
       "    </tr>\n",
       "    <tr>\n",
       "      <th>4</th>\n",
       "      <td>1.589932</td>\n",
       "      <td>Run Type_SPEED</td>\n",
       "    </tr>\n",
       "    <tr>\n",
       "      <th>5</th>\n",
       "      <td>-0.417442</td>\n",
       "      <td>O_D_SOUTH2-SOUTH2</td>\n",
       "    </tr>\n",
       "    <tr>\n",
       "      <th>6</th>\n",
       "      <td>3.239647</td>\n",
       "      <td>Imp_Vendors_ABC60</td>\n",
       "    </tr>\n",
       "    <tr>\n",
       "      <th>7</th>\n",
       "      <td>0.488235</td>\n",
       "      <td>Run Type_SFC</td>\n",
       "    </tr>\n",
       "    <tr>\n",
       "      <th>8</th>\n",
       "      <td>-0.177699</td>\n",
       "      <td>Intra/Inter_Inter</td>\n",
       "    </tr>\n",
       "    <tr>\n",
       "      <th>9</th>\n",
       "      <td>-0.193600</td>\n",
       "      <td>O_D_city_type_Non-Metro/Metro</td>\n",
       "    </tr>\n",
       "    <tr>\n",
       "      <th>10</th>\n",
       "      <td>1.092662</td>\n",
       "      <td>O_D_WEST1-SOUTH2</td>\n",
       "    </tr>\n",
       "    <tr>\n",
       "      <th>11</th>\n",
       "      <td>-0.505118</td>\n",
       "      <td>Sch/NSch/Spl_Sch Run</td>\n",
       "    </tr>\n",
       "    <tr>\n",
       "      <th>12</th>\n",
       "      <td>-0.531901</td>\n",
       "      <td>Time_Interval_[20, 24)</td>\n",
       "    </tr>\n",
       "    <tr>\n",
       "      <th>13</th>\n",
       "      <td>-3.749083</td>\n",
       "      <td>Imp_Vendors_ABC85</td>\n",
       "    </tr>\n",
       "    <tr>\n",
       "      <th>14</th>\n",
       "      <td>0.135260</td>\n",
       "      <td>Capacity</td>\n",
       "    </tr>\n",
       "    <tr>\n",
       "      <th>15</th>\n",
       "      <td>-1.433952</td>\n",
       "      <td>Imp_Routes_BCO</td>\n",
       "    </tr>\n",
       "    <tr>\n",
       "      <th>16</th>\n",
       "      <td>-1.193082</td>\n",
       "      <td>Imp_Routes_STC</td>\n",
       "    </tr>\n",
       "    <tr>\n",
       "      <th>17</th>\n",
       "      <td>3.243837</td>\n",
       "      <td>Imp_Routes_BBL</td>\n",
       "    </tr>\n",
       "    <tr>\n",
       "      <th>18</th>\n",
       "      <td>0.374209</td>\n",
       "      <td>O_D_city_type_Metro/Non-Metro</td>\n",
       "    </tr>\n",
       "    <tr>\n",
       "      <th>19</th>\n",
       "      <td>-0.854269</td>\n",
       "      <td>O_D_NORTH-SOUTH1</td>\n",
       "    </tr>\n",
       "    <tr>\n",
       "      <th>20</th>\n",
       "      <td>-1.007059</td>\n",
       "      <td>Intercept</td>\n",
       "    </tr>\n",
       "  </tbody>\n",
       "</table>\n",
       "</div>"
      ],
      "text/plain": [
       "    Beta_Coeff                        Feature\n",
       "0    -1.816401              Imp_Vendors_ABC10\n",
       "1     1.526639              Imp_Routes_Others\n",
       "2    -0.175120                       Distance\n",
       "3    -2.680985              Imp_Vendors_ABC15\n",
       "4     1.589932                 Run Type_SPEED\n",
       "5    -0.417442              O_D_SOUTH2-SOUTH2\n",
       "6     3.239647              Imp_Vendors_ABC60\n",
       "7     0.488235                   Run Type_SFC\n",
       "8    -0.177699              Intra/Inter_Inter\n",
       "9    -0.193600  O_D_city_type_Non-Metro/Metro\n",
       "10    1.092662               O_D_WEST1-SOUTH2\n",
       "11   -0.505118           Sch/NSch/Spl_Sch Run\n",
       "12   -0.531901         Time_Interval_[20, 24)\n",
       "13   -3.749083              Imp_Vendors_ABC85\n",
       "14    0.135260                       Capacity\n",
       "15   -1.433952                 Imp_Routes_BCO\n",
       "16   -1.193082                 Imp_Routes_STC\n",
       "17    3.243837                 Imp_Routes_BBL\n",
       "18    0.374209  O_D_city_type_Metro/Non-Metro\n",
       "19   -0.854269               O_D_NORTH-SOUTH1\n",
       "20   -1.007059                      Intercept"
      ]
     },
     "execution_count": 27,
     "metadata": {},
     "output_type": "execute_result"
    }
   ],
   "source": [
    "coeff_df"
   ]
  },
  {
   "cell_type": "code",
   "execution_count": 28,
   "metadata": {},
   "outputs": [
    {
     "name": "stdout",
     "output_type": "stream",
     "text": [
      "Accuracy of logistic regression classifier on train set: 0.6894\n"
     ]
    }
   ],
   "source": [
    "y_pred_train = logreg.predict(X_train)\n",
    "print('Accuracy of logistic regression classifier on train set: {:.4f}'.format(logreg.score(X_train, y_train)))"
   ]
  },
  {
   "cell_type": "code",
   "execution_count": 29,
   "metadata": {},
   "outputs": [
    {
     "name": "stdout",
     "output_type": "stream",
     "text": [
      "Accuracy of logistic regression classifier on test set: 0.6831\n"
     ]
    }
   ],
   "source": [
    "y_pred_test = logreg.predict(X_test[X_train.columns])\n",
    "print('Accuracy of logistic regression classifier on test set: {:.4f}'.format(logreg.score(X_test[X_train.columns], y_test)))"
   ]
  },
  {
   "cell_type": "code",
   "execution_count": 37,
   "metadata": {},
   "outputs": [
    {
     "name": "stdout",
     "output_type": "stream",
     "text": [
      "0.3\n",
      "0.6487290762554246 0.9706864564007421\n",
      "0.35\n",
      "0.6535078489962544 0.9602968460111317\n",
      "0.4\n",
      "0.6552198392573172 0.942795299938157\n",
      "0.45\n",
      "0.6684104627766599 0.9244897959183673\n",
      "0.5\n",
      "0.6848637641811306 0.8735930735930736\n",
      "0.55\n",
      "0.7054537301720756 0.7783549783549784\n"
     ]
    }
   ],
   "source": [
    "for cutoff in [0.3,0.35,0.4,0.45,0.5,0.55]:\n",
    "    \n",
    "    y_pred_train = [int(i[1]) for i in logreg.predict_proba(X_train[X_train.columns])>cutoff]\n",
    "    print(cutoff)\n",
    "    print(precision_score(y_train, y_pred_train), recall_score(y_train, y_pred_train))\n",
    "    "
   ]
  },
  {
   "cell_type": "code",
   "execution_count": 38,
   "metadata": {},
   "outputs": [
    {
     "name": "stdout",
     "output_type": "stream",
     "text": [
      "0.6848637641811306 0.8735930735930736 0.6894446059901134\n",
      "0.6807426695346994 0.8676767676767677 0.6830902306648575\n"
     ]
    }
   ],
   "source": [
    "y_pred_train = [int(i[1]) for i in logreg.predict_proba(X_train[X_train.columns])>0.5]\n",
    "y_pred_test = [int(i[1]) for i in logreg.predict_proba(X_test[X_train.columns])>0.5]\n",
    "print(precision_score(y_train, y_pred_train), recall_score(y_train, y_pred_train), accuracy_score(y_train, y_pred_train))\n",
    "print(precision_score(y_test, y_pred_test), recall_score(y_test, y_pred_test), accuracy_score(y_test, y_pred_test))"
   ]
  },
  {
   "cell_type": "code",
   "execution_count": 39,
   "metadata": {},
   "outputs": [
    {
     "data": {
      "text/html": [
       "<div>\n",
       "<style>\n",
       "    .dataframe thead tr:only-child th {\n",
       "        text-align: right;\n",
       "    }\n",
       "\n",
       "    .dataframe thead th {\n",
       "        text-align: left;\n",
       "    }\n",
       "\n",
       "    .dataframe tbody tr th {\n",
       "        vertical-align: top;\n",
       "    }\n",
       "</style>\n",
       "<table border=\"1\" class=\"dataframe\">\n",
       "  <thead>\n",
       "    <tr style=\"text-align: right;\">\n",
       "      <th></th>\n",
       "      <th>0</th>\n",
       "      <th>1</th>\n",
       "    </tr>\n",
       "  </thead>\n",
       "  <tbody>\n",
       "    <tr>\n",
       "      <th>0</th>\n",
       "      <td>4842</td>\n",
       "      <td>6500</td>\n",
       "    </tr>\n",
       "    <tr>\n",
       "      <th>1</th>\n",
       "      <td>2044</td>\n",
       "      <td>14126</td>\n",
       "    </tr>\n",
       "  </tbody>\n",
       "</table>\n",
       "</div>"
      ],
      "text/plain": [
       "      0      1\n",
       "0  4842   6500\n",
       "1  2044  14126"
      ]
     },
     "execution_count": 39,
     "metadata": {},
     "output_type": "execute_result"
    }
   ],
   "source": [
    "from sklearn.metrics import confusion_matrix\n",
    "confusion_matrix = confusion_matrix(y_train, y_pred_train)\n",
    "pd.DataFrame(confusion_matrix)"
   ]
  },
  {
   "cell_type": "code",
   "execution_count": 43,
   "metadata": {},
   "outputs": [
    {
     "data": {
      "text/html": [
       "<div>\n",
       "<style>\n",
       "    .dataframe thead tr:only-child th {\n",
       "        text-align: right;\n",
       "    }\n",
       "\n",
       "    .dataframe thead th {\n",
       "        text-align: left;\n",
       "    }\n",
       "\n",
       "    .dataframe tbody tr th {\n",
       "        vertical-align: top;\n",
       "    }\n",
       "</style>\n",
       "<table border=\"1\" class=\"dataframe\">\n",
       "  <thead>\n",
       "    <tr style=\"text-align: right;\">\n",
       "      <th></th>\n",
       "      <th>0</th>\n",
       "      <th>1</th>\n",
       "    </tr>\n",
       "  </thead>\n",
       "  <tbody>\n",
       "    <tr>\n",
       "      <th>0</th>\n",
       "      <td>2042</td>\n",
       "      <td>2820</td>\n",
       "    </tr>\n",
       "    <tr>\n",
       "      <th>1</th>\n",
       "      <td>917</td>\n",
       "      <td>6013</td>\n",
       "    </tr>\n",
       "  </tbody>\n",
       "</table>\n",
       "</div>"
      ],
      "text/plain": [
       "      0     1\n",
       "0  2042  2820\n",
       "1   917  6013"
      ]
     },
     "execution_count": 43,
     "metadata": {},
     "output_type": "execute_result"
    }
   ],
   "source": [
    "from sklearn.metrics import confusion_matrix\n",
    "confusion_matrix = confusion_matrix(y_test, y_pred_test)\n",
    "pd.DataFrame(confusion_matrix)"
   ]
  },
  {
   "cell_type": "code",
   "execution_count": 45,
   "metadata": {
    "collapsed": true
   },
   "outputs": [],
   "source": [
    "def create_ks_table(data,Score_Column,Target):\n",
    "\n",
    "    #deciles = pd.qcut(data[Score_Column], 10)\n",
    "    data['score_dec_bucket'] = pd.qcut(data[Score_Column], 10)\n",
    "    df = data.groupby('score_dec_bucket',as_index=True).agg({Target: ['sum','count']})\n",
    "    df.columns = ['_'.join(col).strip() for col in df.columns.values]\n",
    "    df['cum_sum_'+Target] = np.cumsum(df['Target_sum'])\n",
    "    df['cum_sum_'+Target+'Perc'] = df['cum_sum_'+Target]/df['Target_sum'].sum()\n",
    "    df = df.reset_index()\n",
    "    x = list(reversed(np.cumsum([i for i in reversed(df['Target_sum'])])))\n",
    "    df['reversed_cumsum'] = [i for i in x]\n",
    "    deciles = df['score_dec_bucket'].values\n",
    "    deciles = list(map(lambda x: eval(str(x).replace('(', '[')), deciles))\n",
    "\n",
    "    buckets = np.array([0, deciles[-3][0],  deciles[-1][0], 1])\n",
    "\n",
    "    return df, buckets\n"
   ]
  },
  {
   "cell_type": "code",
   "execution_count": 46,
   "metadata": {},
   "outputs": [
    {
     "data": {
      "text/html": [
       "<div>\n",
       "<style>\n",
       "    .dataframe thead tr:only-child th {\n",
       "        text-align: right;\n",
       "    }\n",
       "\n",
       "    .dataframe thead th {\n",
       "        text-align: left;\n",
       "    }\n",
       "\n",
       "    .dataframe tbody tr th {\n",
       "        vertical-align: top;\n",
       "    }\n",
       "</style>\n",
       "<table border=\"1\" class=\"dataframe\">\n",
       "  <thead>\n",
       "    <tr style=\"text-align: right;\">\n",
       "      <th></th>\n",
       "      <th>score_dec_bucket</th>\n",
       "      <th>Target_sum</th>\n",
       "      <th>Target_count</th>\n",
       "      <th>cum_sum_Target</th>\n",
       "      <th>cum_sum_TargetPerc</th>\n",
       "      <th>reversed_cumsum</th>\n",
       "    </tr>\n",
       "  </thead>\n",
       "  <tbody>\n",
       "    <tr>\n",
       "      <th>0</th>\n",
       "      <td>(0.0259, 0.253]</td>\n",
       "      <td>328</td>\n",
       "      <td>2757</td>\n",
       "      <td>328</td>\n",
       "      <td>0.020284</td>\n",
       "      <td>16170</td>\n",
       "    </tr>\n",
       "    <tr>\n",
       "      <th>1</th>\n",
       "      <td>(0.253, 0.467]</td>\n",
       "      <td>991</td>\n",
       "      <td>2778</td>\n",
       "      <td>1319</td>\n",
       "      <td>0.081571</td>\n",
       "      <td>15842</td>\n",
       "    </tr>\n",
       "    <tr>\n",
       "      <th>2</th>\n",
       "      <td>(0.467, 0.525]</td>\n",
       "      <td>1612</td>\n",
       "      <td>2773</td>\n",
       "      <td>2931</td>\n",
       "      <td>0.181262</td>\n",
       "      <td>14851</td>\n",
       "    </tr>\n",
       "    <tr>\n",
       "      <th>3</th>\n",
       "      <td>(0.525, 0.575]</td>\n",
       "      <td>1401</td>\n",
       "      <td>2700</td>\n",
       "      <td>4332</td>\n",
       "      <td>0.267904</td>\n",
       "      <td>13239</td>\n",
       "    </tr>\n",
       "    <tr>\n",
       "      <th>4</th>\n",
       "      <td>(0.575, 0.621]</td>\n",
       "      <td>1722</td>\n",
       "      <td>2771</td>\n",
       "      <td>6054</td>\n",
       "      <td>0.374397</td>\n",
       "      <td>11838</td>\n",
       "    </tr>\n",
       "    <tr>\n",
       "      <th>5</th>\n",
       "      <td>(0.621, 0.664]</td>\n",
       "      <td>1530</td>\n",
       "      <td>2737</td>\n",
       "      <td>7584</td>\n",
       "      <td>0.469017</td>\n",
       "      <td>10116</td>\n",
       "    </tr>\n",
       "    <tr>\n",
       "      <th>6</th>\n",
       "      <td>(0.664, 0.711]</td>\n",
       "      <td>1825</td>\n",
       "      <td>2742</td>\n",
       "      <td>9409</td>\n",
       "      <td>0.581880</td>\n",
       "      <td>8586</td>\n",
       "    </tr>\n",
       "    <tr>\n",
       "      <th>7</th>\n",
       "      <td>(0.711, 0.749]</td>\n",
       "      <td>2080</td>\n",
       "      <td>2751</td>\n",
       "      <td>11489</td>\n",
       "      <td>0.710513</td>\n",
       "      <td>6761</td>\n",
       "    </tr>\n",
       "    <tr>\n",
       "      <th>8</th>\n",
       "      <td>(0.749, 0.806]</td>\n",
       "      <td>2255</td>\n",
       "      <td>2757</td>\n",
       "      <td>13744</td>\n",
       "      <td>0.849969</td>\n",
       "      <td>4681</td>\n",
       "    </tr>\n",
       "    <tr>\n",
       "      <th>9</th>\n",
       "      <td>(0.806, 0.987]</td>\n",
       "      <td>2426</td>\n",
       "      <td>2746</td>\n",
       "      <td>16170</td>\n",
       "      <td>1.000000</td>\n",
       "      <td>2426</td>\n",
       "    </tr>\n",
       "  </tbody>\n",
       "</table>\n",
       "</div>"
      ],
      "text/plain": [
       "  score_dec_bucket  Target_sum  Target_count  cum_sum_Target  \\\n",
       "0  (0.0259, 0.253]         328          2757             328   \n",
       "1   (0.253, 0.467]         991          2778            1319   \n",
       "2   (0.467, 0.525]        1612          2773            2931   \n",
       "3   (0.525, 0.575]        1401          2700            4332   \n",
       "4   (0.575, 0.621]        1722          2771            6054   \n",
       "5   (0.621, 0.664]        1530          2737            7584   \n",
       "6   (0.664, 0.711]        1825          2742            9409   \n",
       "7   (0.711, 0.749]        2080          2751           11489   \n",
       "8   (0.749, 0.806]        2255          2757           13744   \n",
       "9   (0.806, 0.987]        2426          2746           16170   \n",
       "\n",
       "   cum_sum_TargetPerc  reversed_cumsum  \n",
       "0            0.020284            16170  \n",
       "1            0.081571            15842  \n",
       "2            0.181262            14851  \n",
       "3            0.267904            13239  \n",
       "4            0.374397            11838  \n",
       "5            0.469017            10116  \n",
       "6            0.581880             8586  \n",
       "7            0.710513             6761  \n",
       "8            0.849969             4681  \n",
       "9            1.000000             2426  "
      ]
     },
     "execution_count": 46,
     "metadata": {},
     "output_type": "execute_result"
    }
   ],
   "source": [
    "y_train_prob_all = logreg.predict_proba(X_train[X_train.columns])\n",
    "y_train_prob = [i[1] for i in y_train_prob_all]\n",
    "\n",
    "y_train_df = pd.DataFrame({'Score':y_train_prob,'Target':y_train})\n",
    "ks_table_outsample, _ = create_ks_table(y_train_df,'Score','Target')\n",
    "ks_table_outsample.to_csv('D:/BlueDart/POC/Model_Iterations/Final Model/'+model_name + '_KS_Train.csv', index = False)\n",
    "ks_table_outsample"
   ]
  },
  {
   "cell_type": "code",
   "execution_count": 47,
   "metadata": {},
   "outputs": [
    {
     "data": {
      "text/html": [
       "<div>\n",
       "<style>\n",
       "    .dataframe thead tr:only-child th {\n",
       "        text-align: right;\n",
       "    }\n",
       "\n",
       "    .dataframe thead th {\n",
       "        text-align: left;\n",
       "    }\n",
       "\n",
       "    .dataframe tbody tr th {\n",
       "        vertical-align: top;\n",
       "    }\n",
       "</style>\n",
       "<table border=\"1\" class=\"dataframe\">\n",
       "  <thead>\n",
       "    <tr style=\"text-align: right;\">\n",
       "      <th></th>\n",
       "      <th>score_dec_bucket</th>\n",
       "      <th>Target_sum</th>\n",
       "      <th>Target_count</th>\n",
       "      <th>cum_sum_Target</th>\n",
       "      <th>cum_sum_TargetPerc</th>\n",
       "      <th>reversed_cumsum</th>\n",
       "    </tr>\n",
       "  </thead>\n",
       "  <tbody>\n",
       "    <tr>\n",
       "      <th>0</th>\n",
       "      <td>(0.0259, 0.251]</td>\n",
       "      <td>143</td>\n",
       "      <td>1180</td>\n",
       "      <td>143</td>\n",
       "      <td>0.020635</td>\n",
       "      <td>6930</td>\n",
       "    </tr>\n",
       "    <tr>\n",
       "      <th>1</th>\n",
       "      <td>(0.251, 0.467]</td>\n",
       "      <td>430</td>\n",
       "      <td>1187</td>\n",
       "      <td>573</td>\n",
       "      <td>0.082684</td>\n",
       "      <td>6787</td>\n",
       "    </tr>\n",
       "    <tr>\n",
       "      <th>2</th>\n",
       "      <td>(0.467, 0.525]</td>\n",
       "      <td>707</td>\n",
       "      <td>1192</td>\n",
       "      <td>1280</td>\n",
       "      <td>0.184704</td>\n",
       "      <td>6357</td>\n",
       "    </tr>\n",
       "    <tr>\n",
       "      <th>3</th>\n",
       "      <td>(0.525, 0.574]</td>\n",
       "      <td>590</td>\n",
       "      <td>1159</td>\n",
       "      <td>1870</td>\n",
       "      <td>0.269841</td>\n",
       "      <td>5650</td>\n",
       "    </tr>\n",
       "    <tr>\n",
       "      <th>4</th>\n",
       "      <td>(0.574, 0.621]</td>\n",
       "      <td>734</td>\n",
       "      <td>1183</td>\n",
       "      <td>2604</td>\n",
       "      <td>0.375758</td>\n",
       "      <td>5060</td>\n",
       "    </tr>\n",
       "    <tr>\n",
       "      <th>5</th>\n",
       "      <td>(0.621, 0.664]</td>\n",
       "      <td>655</td>\n",
       "      <td>1180</td>\n",
       "      <td>3259</td>\n",
       "      <td>0.470274</td>\n",
       "      <td>4326</td>\n",
       "    </tr>\n",
       "    <tr>\n",
       "      <th>6</th>\n",
       "      <td>(0.664, 0.711]</td>\n",
       "      <td>774</td>\n",
       "      <td>1181</td>\n",
       "      <td>4033</td>\n",
       "      <td>0.581962</td>\n",
       "      <td>3671</td>\n",
       "    </tr>\n",
       "    <tr>\n",
       "      <th>7</th>\n",
       "      <td>(0.711, 0.75]</td>\n",
       "      <td>905</td>\n",
       "      <td>1175</td>\n",
       "      <td>4938</td>\n",
       "      <td>0.712554</td>\n",
       "      <td>2897</td>\n",
       "    </tr>\n",
       "    <tr>\n",
       "      <th>8</th>\n",
       "      <td>(0.75, 0.807]</td>\n",
       "      <td>964</td>\n",
       "      <td>1175</td>\n",
       "      <td>5902</td>\n",
       "      <td>0.851659</td>\n",
       "      <td>1992</td>\n",
       "    </tr>\n",
       "    <tr>\n",
       "      <th>9</th>\n",
       "      <td>(0.807, 0.987]</td>\n",
       "      <td>1028</td>\n",
       "      <td>1180</td>\n",
       "      <td>6930</td>\n",
       "      <td>1.000000</td>\n",
       "      <td>1028</td>\n",
       "    </tr>\n",
       "  </tbody>\n",
       "</table>\n",
       "</div>"
      ],
      "text/plain": [
       "  score_dec_bucket  Target_sum  Target_count  cum_sum_Target  \\\n",
       "0  (0.0259, 0.251]         143          1180             143   \n",
       "1   (0.251, 0.467]         430          1187             573   \n",
       "2   (0.467, 0.525]         707          1192            1280   \n",
       "3   (0.525, 0.574]         590          1159            1870   \n",
       "4   (0.574, 0.621]         734          1183            2604   \n",
       "5   (0.621, 0.664]         655          1180            3259   \n",
       "6   (0.664, 0.711]         774          1181            4033   \n",
       "7    (0.711, 0.75]         905          1175            4938   \n",
       "8    (0.75, 0.807]         964          1175            5902   \n",
       "9   (0.807, 0.987]        1028          1180            6930   \n",
       "\n",
       "   cum_sum_TargetPerc  reversed_cumsum  \n",
       "0            0.020635             6930  \n",
       "1            0.082684             6787  \n",
       "2            0.184704             6357  \n",
       "3            0.269841             5650  \n",
       "4            0.375758             5060  \n",
       "5            0.470274             4326  \n",
       "6            0.581962             3671  \n",
       "7            0.712554             2897  \n",
       "8            0.851659             1992  \n",
       "9            1.000000             1028  "
      ]
     },
     "execution_count": 47,
     "metadata": {},
     "output_type": "execute_result"
    }
   ],
   "source": [
    "y_test_prob_all = logreg.predict_proba(X_test[X_train.columns])\n",
    "y_test_prob = [i[1] for i in y_test_prob_all]\n",
    "\n",
    "y_test_df = pd.DataFrame({'Score':y_test_prob,'Target':y_test})\n",
    "ks_table_outsample, _ = create_ks_table(y_test_df,'Score','Target')\n",
    "ks_table_outsample.to_csv('D:/BlueDart/POC/Model_Iterations/Final Model/'+model_name + '_KS_Test.csv', index = False)\n",
    "ks_table_outsample"
   ]
  },
  {
   "cell_type": "code",
   "execution_count": 48,
   "metadata": {},
   "outputs": [
    {
     "data": {
      "text/plain": [
       "(50772, 180)"
      ]
     },
     "execution_count": 48,
     "metadata": {},
     "output_type": "execute_result"
    }
   ],
   "source": [
    "data1 = data_df.loc[(data_df['Delay']<=2) & (data_df['Delay']>=-2),:]\n",
    "data1.shape"
   ]
  },
  {
   "cell_type": "code",
   "execution_count": 50,
   "metadata": {},
   "outputs": [
    {
     "data": {
      "text/plain": [
       "(62564, 20)"
      ]
     },
     "execution_count": 50,
     "metadata": {},
     "output_type": "execute_result"
    }
   ],
   "source": [
    "data2 = pd.concat([data1[X_train.columns], X_test[X_train.columns]])\n",
    "data2.shape"
   ]
  },
  {
   "cell_type": "code",
   "execution_count": 51,
   "metadata": {},
   "outputs": [
    {
     "data": {
      "text/plain": [
       "(62564,)"
      ]
     },
     "execution_count": 51,
     "metadata": {},
     "output_type": "execute_result"
    }
   ],
   "source": [
    "y_data2 = pd.concat([data1['Delay_Flag'], y_test])\n",
    "y_data2.shape"
   ]
  },
  {
   "cell_type": "code",
   "execution_count": 52,
   "metadata": {},
   "outputs": [
    {
     "data": {
      "text/plain": [
       "(40132, 22432)"
      ]
     },
     "execution_count": 52,
     "metadata": {},
     "output_type": "execute_result"
    }
   ],
   "source": [
    "sum(y_data2 == 0), sum(y_data2)"
   ]
  },
  {
   "cell_type": "code",
   "execution_count": 53,
   "metadata": {},
   "outputs": [
    {
     "data": {
      "text/plain": [
       "(45649, 16915)"
      ]
     },
     "execution_count": 53,
     "metadata": {},
     "output_type": "execute_result"
    }
   ],
   "source": [
    "y1 = logreg.predict(data2)\n",
    "sum(y1), sum(y1 == 0)"
   ]
  },
  {
   "cell_type": "code",
   "execution_count": 1,
   "metadata": {},
   "outputs": [
    {
     "ename": "NameError",
     "evalue": "name 'y_data2' is not defined",
     "output_type": "error",
     "traceback": [
      "\u001b[1;31m---------------------------------------------------------------------------\u001b[0m",
      "\u001b[1;31mNameError\u001b[0m                                 Traceback (most recent call last)",
      "\u001b[1;32m<ipython-input-1-30904942659b>\u001b[0m in \u001b[0;36m<module>\u001b[1;34m()\u001b[0m\n\u001b[0;32m      1\u001b[0m \u001b[1;32mfrom\u001b[0m \u001b[0msklearn\u001b[0m\u001b[1;33m.\u001b[0m\u001b[0mmetrics\u001b[0m \u001b[1;32mimport\u001b[0m \u001b[0mconfusion_matrix\u001b[0m\u001b[1;33m\u001b[0m\u001b[0m\n\u001b[1;32m----> 2\u001b[1;33m \u001b[0mconfusion_matrix_1\u001b[0m \u001b[1;33m=\u001b[0m \u001b[0mconfusion_matrix\u001b[0m\u001b[1;33m(\u001b[0m\u001b[0my_data2\u001b[0m\u001b[1;33m,\u001b[0m \u001b[0my1\u001b[0m\u001b[1;33m)\u001b[0m\u001b[1;33m\u001b[0m\u001b[0m\n\u001b[0m\u001b[0;32m      3\u001b[0m \u001b[0mpd\u001b[0m\u001b[1;33m.\u001b[0m\u001b[0mDataFrame\u001b[0m\u001b[1;33m(\u001b[0m\u001b[0mconfusion_matrix_1\u001b[0m\u001b[1;33m)\u001b[0m\u001b[1;33m\u001b[0m\u001b[0m\n",
      "\u001b[1;31mNameError\u001b[0m: name 'y_data2' is not defined"
     ]
    }
   ],
   "source": [
    "from sklearn.metrics import confusion_matrix\n",
    "confusion_matrix_1 = confusion_matrix(y_data2, y1)\n",
    "pd.DataFrame(confusion_matrix_1)"
   ]
  },
  {
   "cell_type": "code",
   "execution_count": 60,
   "metadata": {},
   "outputs": [
    {
     "name": "stdout",
     "output_type": "stream",
     "text": [
      "             precision    recall  f1-score   support\n",
      "\n",
      "          0       0.75      0.32      0.44     40132\n",
      "          1       0.40      0.81      0.53     22432\n",
      "\n",
      "avg / total       0.62      0.49      0.48     62564\n",
      "\n"
     ]
    }
   ],
   "source": [
    "print(classification_report(y_data2, y1))"
   ]
  },
  {
   "cell_type": "code",
   "execution_count": 61,
   "metadata": {},
   "outputs": [
    {
     "data": {
      "text/plain": [
       "50772"
      ]
     },
     "execution_count": 61,
     "metadata": {},
     "output_type": "execute_result"
    }
   ],
   "source": [
    "y1_prob_all = logreg.predict_proba(data1[X_train.columns])\n",
    "y1_prob = [i[1] for i in y1_prob_all]\n",
    "len(y1_prob)"
   ]
  },
  {
   "cell_type": "code",
   "execution_count": 63,
   "metadata": {},
   "outputs": [],
   "source": [
    "# y1_df = pd.DataFrame({'Score':y1_prob,'Target':y1})\n",
    "# ks_table_outsample, _ = create_ks_table(y1_df,'Score','Target')\n",
    "# ks_table_outsample.to_csv('D:/BlueDart/POC/Model_Iterations/Final Model/'+model_name + '_KS_Others_equal2.csv', index = False)\n",
    "# ks_table_outsample"
   ]
  }
 ],
 "metadata": {
  "anaconda-cloud": {},
  "kernelspec": {
   "display_name": "Python 3",
   "language": "python",
   "name": "python3"
  },
  "language_info": {
   "codemirror_mode": {
    "name": "ipython",
    "version": 3
   },
   "file_extension": ".py",
   "mimetype": "text/x-python",
   "name": "python",
   "nbconvert_exporter": "python",
   "pygments_lexer": "ipython3",
   "version": "3.6.3"
  }
 },
 "nbformat": 4,
 "nbformat_minor": 1
}
