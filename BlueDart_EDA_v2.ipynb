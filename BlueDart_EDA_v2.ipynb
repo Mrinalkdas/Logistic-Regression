{
 "cells": [
  {
   "cell_type": "code",
   "execution_count": 1,
   "metadata": {
    "collapsed": true
   },
   "outputs": [],
   "source": [
    "import pandas as pd\n",
    "import numpy as np\n",
    "from collections import Counter\n",
    "from datetime import datetime\n",
    "from dateutil import parser\n",
    "import matplotlib.pyplot as plt\n",
    "import calendar\n",
    "from datetime import timedelta"
   ]
  },
  {
   "cell_type": "code",
   "execution_count": 2,
   "metadata": {},
   "outputs": [
    {
     "data": {
      "text/html": [
       "<div>\n",
       "<style>\n",
       "    .dataframe thead tr:only-child th {\n",
       "        text-align: right;\n",
       "    }\n",
       "\n",
       "    .dataframe thead th {\n",
       "        text-align: left;\n",
       "    }\n",
       "\n",
       "    .dataframe tbody tr th {\n",
       "        vertical-align: top;\n",
       "    }\n",
       "</style>\n",
       "<table border=\"1\" class=\"dataframe\">\n",
       "  <thead>\n",
       "    <tr style=\"text-align: right;\">\n",
       "      <th></th>\n",
       "      <th>Run Type</th>\n",
       "      <th>NCARNETNO</th>\n",
       "      <th>DFLIGHTDT</th>\n",
       "      <th>CFLIGHTNO</th>\n",
       "      <th>Route</th>\n",
       "      <th>CORG</th>\n",
       "      <th>O_City_type</th>\n",
       "      <th>Org-Reg</th>\n",
       "      <th>CDST</th>\n",
       "      <th>D_City_type</th>\n",
       "      <th>...</th>\n",
       "      <th>Sch. Arrival</th>\n",
       "      <th>Actual Arrival</th>\n",
       "      <th>Expected Arrival</th>\n",
       "      <th>O_D</th>\n",
       "      <th>Departure delay</th>\n",
       "      <th>Arrival Delay</th>\n",
       "      <th>day</th>\n",
       "      <th>month</th>\n",
       "      <th>year</th>\n",
       "      <th>date</th>\n",
       "    </tr>\n",
       "  </thead>\n",
       "  <tbody>\n",
       "    <tr>\n",
       "      <th>0</th>\n",
       "      <td>SFC</td>\n",
       "      <td>494301</td>\n",
       "      <td>01-Jan-2018</td>\n",
       "      <td>PJD12A</td>\n",
       "      <td>PJD</td>\n",
       "      <td>ATR</td>\n",
       "      <td>Non-Metro</td>\n",
       "      <td>NORTH</td>\n",
       "      <td>MHP</td>\n",
       "      <td>Metro</td>\n",
       "      <td>...</td>\n",
       "      <td>1/2/2018 9:40</td>\n",
       "      <td>1/2/2018 9:40</td>\n",
       "      <td>1/2/2018 9:40</td>\n",
       "      <td>NORTH-NORTH</td>\n",
       "      <td>0.00</td>\n",
       "      <td>0.00</td>\n",
       "      <td>1</td>\n",
       "      <td>1</td>\n",
       "      <td>2018</td>\n",
       "      <td>1/1/2018</td>\n",
       "    </tr>\n",
       "    <tr>\n",
       "      <th>1</th>\n",
       "      <td>SFC</td>\n",
       "      <td>900000004829856</td>\n",
       "      <td>01-Jan-2018</td>\n",
       "      <td>PVH11</td>\n",
       "      <td>PVH</td>\n",
       "      <td>PNW</td>\n",
       "      <td>Non-Metro</td>\n",
       "      <td>WEST1</td>\n",
       "      <td>HBW</td>\n",
       "      <td>Non-Metro</td>\n",
       "      <td>...</td>\n",
       "      <td>1/1/2018 14:25</td>\n",
       "      <td>1/1/2018 17:35</td>\n",
       "      <td>1/1/2018 14:25</td>\n",
       "      <td>WEST1-SOUTH2</td>\n",
       "      <td>0.00</td>\n",
       "      <td>3.17</td>\n",
       "      <td>1</td>\n",
       "      <td>1</td>\n",
       "      <td>2018</td>\n",
       "      <td>1/1/2018</td>\n",
       "    </tr>\n",
       "    <tr>\n",
       "      <th>2</th>\n",
       "      <td>SFC</td>\n",
       "      <td>900000004829641</td>\n",
       "      <td>01-Jan-2018</td>\n",
       "      <td>AMD11</td>\n",
       "      <td>AMD</td>\n",
       "      <td>AMH</td>\n",
       "      <td>Non-Metro</td>\n",
       "      <td>NORTH</td>\n",
       "      <td>DIA</td>\n",
       "      <td>Non-Metro</td>\n",
       "      <td>...</td>\n",
       "      <td>1/1/2018 12:43</td>\n",
       "      <td>1/1/2018 13:04</td>\n",
       "      <td>1/1/2018 12:43</td>\n",
       "      <td>NORTH-NORTH</td>\n",
       "      <td>0.00</td>\n",
       "      <td>0.35</td>\n",
       "      <td>1</td>\n",
       "      <td>1</td>\n",
       "      <td>2018</td>\n",
       "      <td>1/1/2018</td>\n",
       "    </tr>\n",
       "    <tr>\n",
       "      <th>3</th>\n",
       "      <td>SFC</td>\n",
       "      <td>494218</td>\n",
       "      <td>01-Jan-2018</td>\n",
       "      <td>DRD12</td>\n",
       "      <td>DRD</td>\n",
       "      <td>DRN</td>\n",
       "      <td>Non-Metro</td>\n",
       "      <td>NORTH</td>\n",
       "      <td>MHP</td>\n",
       "      <td>Metro</td>\n",
       "      <td>...</td>\n",
       "      <td>1/2/2018 3:30</td>\n",
       "      <td>1/2/2018 3:30</td>\n",
       "      <td>1/2/2018 3:30</td>\n",
       "      <td>NORTH-NORTH</td>\n",
       "      <td>0.00</td>\n",
       "      <td>0.00</td>\n",
       "      <td>1</td>\n",
       "      <td>1</td>\n",
       "      <td>2018</td>\n",
       "      <td>1/1/2018</td>\n",
       "    </tr>\n",
       "    <tr>\n",
       "      <th>4</th>\n",
       "      <td>SFC</td>\n",
       "      <td>900000004830087</td>\n",
       "      <td>01-Jan-2018</td>\n",
       "      <td>JNK11</td>\n",
       "      <td>JNK</td>\n",
       "      <td>JNS</td>\n",
       "      <td>Non-Metro</td>\n",
       "      <td>NORTH</td>\n",
       "      <td>KWH</td>\n",
       "      <td>Non-Metro</td>\n",
       "      <td>...</td>\n",
       "      <td>1/1/2018 23:00</td>\n",
       "      <td>1/1/2018 22:35</td>\n",
       "      <td>1/1/2018 22:19</td>\n",
       "      <td>NORTH-NORTH</td>\n",
       "      <td>-0.68</td>\n",
       "      <td>-0.42</td>\n",
       "      <td>1</td>\n",
       "      <td>1</td>\n",
       "      <td>2018</td>\n",
       "      <td>1/1/2018</td>\n",
       "    </tr>\n",
       "  </tbody>\n",
       "</table>\n",
       "<p>5 rows × 41 columns</p>\n",
       "</div>"
      ],
      "text/plain": [
       "  Run Type        NCARNETNO    DFLIGHTDT CFLIGHTNO Route CORG O_City_type  \\\n",
       "0      SFC           494301  01-Jan-2018    PJD12A   PJD  ATR   Non-Metro   \n",
       "1      SFC  900000004829856  01-Jan-2018     PVH11   PVH  PNW   Non-Metro   \n",
       "2      SFC  900000004829641  01-Jan-2018     AMD11   AMD  AMH   Non-Metro   \n",
       "3      SFC           494218  01-Jan-2018     DRD12   DRD  DRN   Non-Metro   \n",
       "4      SFC  900000004830087  01-Jan-2018     JNK11   JNK  JNS   Non-Metro   \n",
       "\n",
       "  Org-Reg CDST D_City_type    ...       Sch. Arrival  Actual Arrival  \\\n",
       "0   NORTH  MHP       Metro    ...      1/2/2018 9:40   1/2/2018 9:40   \n",
       "1   WEST1  HBW   Non-Metro    ...     1/1/2018 14:25  1/1/2018 17:35   \n",
       "2   NORTH  DIA   Non-Metro    ...     1/1/2018 12:43  1/1/2018 13:04   \n",
       "3   NORTH  MHP       Metro    ...      1/2/2018 3:30   1/2/2018 3:30   \n",
       "4   NORTH  KWH   Non-Metro    ...     1/1/2018 23:00  1/1/2018 22:35   \n",
       "\n",
       "  Expected Arrival           O_D Departure delay  Arrival Delay  day  month  \\\n",
       "0    1/2/2018 9:40   NORTH-NORTH            0.00           0.00    1      1   \n",
       "1   1/1/2018 14:25  WEST1-SOUTH2            0.00           3.17    1      1   \n",
       "2   1/1/2018 12:43   NORTH-NORTH            0.00           0.35    1      1   \n",
       "3    1/2/2018 3:30   NORTH-NORTH            0.00           0.00    1      1   \n",
       "4   1/1/2018 22:19   NORTH-NORTH           -0.68          -0.42    1      1   \n",
       "\n",
       "   year      date  \n",
       "0  2018  1/1/2018  \n",
       "1  2018  1/1/2018  \n",
       "2  2018  1/1/2018  \n",
       "3  2018  1/1/2018  \n",
       "4  2018  1/1/2018  \n",
       "\n",
       "[5 rows x 41 columns]"
      ]
     },
     "execution_count": 2,
     "metadata": {},
     "output_type": "execute_result"
    }
   ],
   "source": [
    "data_df = pd.read_csv('D:/BlueDart/POC/data.csv')\n",
    "data_df.head()"
   ]
  },
  {
   "cell_type": "code",
   "execution_count": 3,
   "metadata": {},
   "outputs": [
    {
     "data": {
      "text/plain": [
       "Index(['Run Type', 'NCARNETNO', 'DFLIGHTDT', 'CFLIGHTNO', 'Route', 'CORG',\n",
       "       'O_City_type', 'Org-Reg', 'CDST', 'D_City_type', 'Dst_Reg', 'Distance',\n",
       "       'CVEHTYPE', 'TYPE', 'Vendor', 'Capacity', 'Consdwt', 'Pcs',\n",
       "       'Util_conwt', 'Crit', 'NHIRE_AMT', 'FS', 'Incentive/Penalty',\n",
       "       'NOTHERSAMT', 'NDISCOUNT', 'NBDEDEDUCT', 'Intra/Inter', 'CCONTTYPE',\n",
       "       'Sch/NSch/Spl', 'Sch. Departure', 'Act. Departure', 'Sch. Arrival',\n",
       "       'Actual Arrival', 'Expected Arrival', 'O_D', 'Departure delay',\n",
       "       'Arrival Delay', 'day', 'month', 'year', 'date'],\n",
       "      dtype='object')"
      ]
     },
     "execution_count": 3,
     "metadata": {},
     "output_type": "execute_result"
    }
   ],
   "source": [
    "data_df.columns"
   ]
  },
  {
   "cell_type": "code",
   "execution_count": 4,
   "metadata": {},
   "outputs": [],
   "source": [
    "# Converting to datetime\n",
    "col_names = ['DFLIGHTDT','Sch. Departure', 'Act. Departure','Sch. Arrival', 'Expected Arrival','Actual Arrival','date']\n",
    "data_df[col_names] = data_df[col_names].applymap(lambda x: parser.parse(x) if pd.notnull(x) else x)"
   ]
  },
  {
   "cell_type": "code",
   "execution_count": 5,
   "metadata": {
    "collapsed": true
   },
   "outputs": [],
   "source": [
    "data = data_df.copy()"
   ]
  },
  {
   "cell_type": "code",
   "execution_count": 6,
   "metadata": {
    "scrolled": true
   },
   "outputs": [
    {
     "name": "stdout",
     "output_type": "stream",
     "text": [
      "(94675, 41)\n",
      "Nulls in Actual Arrivals:  1801\n",
      "(92874, 41)\n",
      "(90659, 41)\n",
      "(90498, 41)\n",
      "381\n",
      "(90083, 41)\n",
      "(90082, 41)\n"
     ]
    },
    {
     "data": {
      "text/plain": [
       "0"
      ]
     },
     "execution_count": 6,
     "metadata": {},
     "output_type": "execute_result"
    }
   ],
   "source": [
    "print(data.shape)\n",
    "\n",
    "# Departures and Arrivals\n",
    "print(\"Nulls in Actual Arrivals: \", pd.isnull(data['Actual Arrival']).sum())\n",
    "\n",
    "# # Imputing nulls in Actual Arrivals by Expected Arrivals\n",
    "# data['Actual Arrival'] = np.where(pd.isnull(data['Actual Arrival']), data['Expected Arrival'], data['Actual Arrival'])\n",
    "\n",
    "# Removing data with nulls in Actual Arrival\n",
    "data = data.loc[pd.notnull(data['Actual Arrival'])]\n",
    "print(data.shape)\n",
    "\n",
    "# Removing nulls and 0's from Distance\n",
    "data = data.loc[pd.notnull(data['Distance'])]\n",
    "data = data.loc[(data['Distance'] != 0)]\n",
    "\n",
    "# Removing nulls from CVEHICLE TYPE\n",
    "data = data.loc[pd.notnull(data['CVEHTYPE'])]\n",
    "print(data.shape)\n",
    "\n",
    "# Removing P2P from Run Type\n",
    "data = data.loc[data['Run Type'] != 'P2P']\n",
    "print(data.shape)\n",
    "\n",
    "print(((data['Consdwt'] == 0)&(data['Pcs'] == 0)).sum())\n",
    "# Removing 0 Weight Shipments\n",
    "data = data.loc[data['Consdwt'] != 0]\n",
    "print(data.shape)\n",
    "\n",
    "# Removing 0 from Number of Shipments\n",
    "data = data.loc[data['Pcs'] != 0]\n",
    "print(data.shape)\n",
    "\n",
    "cost_cols = ['NHIRE_AMT', 'FS', 'Incentive/Penalty','NOTHERSAMT', 'NDISCOUNT', 'NBDEDEDUCT']\n",
    "sum(data[[i for i in data.columns if i not in cost_cols]].apply(lambda x: pd.isnull(x).sum()))"
   ]
  },
  {
   "cell_type": "code",
   "execution_count": 7,
   "metadata": {},
   "outputs": [
    {
     "name": "stdout",
     "output_type": "stream",
     "text": [
      "DFLIGHTDT {2018}\n",
      "Sch. Departure {2017, 2018}\n",
      "Act. Departure {2017, 2018}\n",
      "Sch. Arrival {2018}\n",
      "Expected Arrival {2018}\n",
      "Actual Arrival {2017, 2018, 2019}\n"
     ]
    },
    {
     "data": {
      "text/html": [
       "<div>\n",
       "<style>\n",
       "    .dataframe thead tr:only-child th {\n",
       "        text-align: right;\n",
       "    }\n",
       "\n",
       "    .dataframe thead th {\n",
       "        text-align: left;\n",
       "    }\n",
       "\n",
       "    .dataframe tbody tr th {\n",
       "        vertical-align: top;\n",
       "    }\n",
       "</style>\n",
       "<table border=\"1\" class=\"dataframe\">\n",
       "  <thead>\n",
       "    <tr style=\"text-align: right;\">\n",
       "      <th></th>\n",
       "      <th>DFLIGHTDT</th>\n",
       "      <th>Sch. Departure</th>\n",
       "      <th>Act. Departure</th>\n",
       "      <th>Sch. Arrival</th>\n",
       "      <th>Expected Arrival</th>\n",
       "      <th>Actual Arrival</th>\n",
       "    </tr>\n",
       "  </thead>\n",
       "  <tbody>\n",
       "    <tr>\n",
       "      <th>14</th>\n",
       "      <td>2018-01-01</td>\n",
       "      <td>2018-01-01 22:00:00</td>\n",
       "      <td>2018-01-01 21:30:00</td>\n",
       "      <td>2018-01-02 05:15:00</td>\n",
       "      <td>2018-01-02 04:45:00</td>\n",
       "      <td>2017-12-27 05:45:00</td>\n",
       "    </tr>\n",
       "    <tr>\n",
       "      <th>114</th>\n",
       "      <td>2018-01-01</td>\n",
       "      <td>2017-12-31 22:00:00</td>\n",
       "      <td>2017-12-31 22:00:00</td>\n",
       "      <td>2018-01-01 02:00:00</td>\n",
       "      <td>2018-01-01 02:00:00</td>\n",
       "      <td>2018-01-01 02:00:00</td>\n",
       "    </tr>\n",
       "    <tr>\n",
       "      <th>191</th>\n",
       "      <td>2018-01-01</td>\n",
       "      <td>2017-12-31 19:30:00</td>\n",
       "      <td>2017-12-31 19:30:00</td>\n",
       "      <td>2018-01-02 05:30:00</td>\n",
       "      <td>2018-01-02 05:30:00</td>\n",
       "      <td>2018-01-02 20:35:00</td>\n",
       "    </tr>\n",
       "    <tr>\n",
       "      <th>195</th>\n",
       "      <td>2018-01-01</td>\n",
       "      <td>2018-01-01 00:05:00</td>\n",
       "      <td>2017-12-31 21:30:00</td>\n",
       "      <td>2018-01-01 12:30:00</td>\n",
       "      <td>2018-01-01 09:55:00</td>\n",
       "      <td>2018-01-01 09:25:00</td>\n",
       "    </tr>\n",
       "    <tr>\n",
       "      <th>225</th>\n",
       "      <td>2018-01-01</td>\n",
       "      <td>2017-12-31 21:30:00</td>\n",
       "      <td>2017-12-31 21:30:00</td>\n",
       "      <td>2018-01-02 09:30:00</td>\n",
       "      <td>2018-01-02 09:30:00</td>\n",
       "      <td>2018-01-02 18:35:00</td>\n",
       "    </tr>\n",
       "    <tr>\n",
       "      <th>248</th>\n",
       "      <td>2018-01-01</td>\n",
       "      <td>2018-01-01 00:30:00</td>\n",
       "      <td>2017-12-31 14:30:00</td>\n",
       "      <td>2018-01-02 12:30:00</td>\n",
       "      <td>2018-01-02 02:30:00</td>\n",
       "      <td>2018-01-02 10:00:00</td>\n",
       "    </tr>\n",
       "    <tr>\n",
       "      <th>249</th>\n",
       "      <td>2018-01-01</td>\n",
       "      <td>2017-12-31 23:15:00</td>\n",
       "      <td>2017-12-31 23:15:00</td>\n",
       "      <td>2018-01-02 11:15:00</td>\n",
       "      <td>2018-01-02 11:15:00</td>\n",
       "      <td>2018-01-02 14:05:00</td>\n",
       "    </tr>\n",
       "    <tr>\n",
       "      <th>252</th>\n",
       "      <td>2018-01-01</td>\n",
       "      <td>2017-12-31 15:00:00</td>\n",
       "      <td>2017-12-31 15:00:00</td>\n",
       "      <td>2018-01-02 03:00:00</td>\n",
       "      <td>2018-01-02 03:00:00</td>\n",
       "      <td>2018-01-02 15:35:00</td>\n",
       "    </tr>\n",
       "    <tr>\n",
       "      <th>8001</th>\n",
       "      <td>2018-01-22</td>\n",
       "      <td>2018-01-22 06:00:00</td>\n",
       "      <td>2018-01-22 06:00:00</td>\n",
       "      <td>2018-01-22 10:17:00</td>\n",
       "      <td>2018-01-22 10:17:00</td>\n",
       "      <td>2019-01-22 11:00:00</td>\n",
       "    </tr>\n",
       "  </tbody>\n",
       "</table>\n",
       "</div>"
      ],
      "text/plain": [
       "      DFLIGHTDT      Sch. Departure      Act. Departure        Sch. Arrival  \\\n",
       "14   2018-01-01 2018-01-01 22:00:00 2018-01-01 21:30:00 2018-01-02 05:15:00   \n",
       "114  2018-01-01 2017-12-31 22:00:00 2017-12-31 22:00:00 2018-01-01 02:00:00   \n",
       "191  2018-01-01 2017-12-31 19:30:00 2017-12-31 19:30:00 2018-01-02 05:30:00   \n",
       "195  2018-01-01 2018-01-01 00:05:00 2017-12-31 21:30:00 2018-01-01 12:30:00   \n",
       "225  2018-01-01 2017-12-31 21:30:00 2017-12-31 21:30:00 2018-01-02 09:30:00   \n",
       "248  2018-01-01 2018-01-01 00:30:00 2017-12-31 14:30:00 2018-01-02 12:30:00   \n",
       "249  2018-01-01 2017-12-31 23:15:00 2017-12-31 23:15:00 2018-01-02 11:15:00   \n",
       "252  2018-01-01 2017-12-31 15:00:00 2017-12-31 15:00:00 2018-01-02 03:00:00   \n",
       "8001 2018-01-22 2018-01-22 06:00:00 2018-01-22 06:00:00 2018-01-22 10:17:00   \n",
       "\n",
       "        Expected Arrival      Actual Arrival  \n",
       "14   2018-01-02 04:45:00 2017-12-27 05:45:00  \n",
       "114  2018-01-01 02:00:00 2018-01-01 02:00:00  \n",
       "191  2018-01-02 05:30:00 2018-01-02 20:35:00  \n",
       "195  2018-01-01 09:55:00 2018-01-01 09:25:00  \n",
       "225  2018-01-02 09:30:00 2018-01-02 18:35:00  \n",
       "248  2018-01-02 02:30:00 2018-01-02 10:00:00  \n",
       "249  2018-01-02 11:15:00 2018-01-02 14:05:00  \n",
       "252  2018-01-02 03:00:00 2018-01-02 15:35:00  \n",
       "8001 2018-01-22 10:17:00 2019-01-22 11:00:00  "
      ]
     },
     "execution_count": 7,
     "metadata": {},
     "output_type": "execute_result"
    }
   ],
   "source": [
    "col_names = ['DFLIGHTDT','Sch. Departure', 'Act. Departure','Sch. Arrival', 'Expected Arrival','Actual Arrival']\n",
    "for col in col_names:\n",
    "    print(col, set((map(lambda x: x.year, data[col]))))\n",
    "    \n",
    "data['Departure Year'] = list(map(lambda x: x.year, data['Act. Departure']))\n",
    "data['Actual Arrival Year'] = list(map(lambda x: x.year, data['Actual Arrival']))\n",
    "data.loc[(data['Departure Year'] == 2017)|(data['Actual Arrival Year'] !=2018), col_names]"
   ]
  },
  {
   "cell_type": "code",
   "execution_count": 8,
   "metadata": {},
   "outputs": [
    {
     "name": "stdout",
     "output_type": "stream",
     "text": [
      "6\n",
      "(90076, 44)\n"
     ]
    }
   ],
   "source": [
    "# Drop rows with more than 10 days of delay\n",
    "# These are deemed anomalous\n",
    "data['Delay'] = data['Actual Arrival'] - data['Sch. Arrival']\n",
    "data['Delay'] = data['Delay'].apply(lambda x: np.round(x.total_seconds()/3600))\n",
    "anomalous_delay = data.loc[(data['Delay'] > 10*24)|(data['Delay'] < -10*24), col_names + ['Delay']].index\n",
    "print(len(anomalous_delay))\n",
    "data = data.drop(anomalous_delay)\n",
    "\n",
    "print(data.shape)"
   ]
  },
  {
   "cell_type": "code",
   "execution_count": 9,
   "metadata": {},
   "outputs": [
    {
     "data": {
      "text/plain": [
       "(38602, 35194, 16280)"
      ]
     },
     "execution_count": 9,
     "metadata": {},
     "output_type": "execute_result"
    }
   ],
   "source": [
    "data['Delay_Flag'] = [1 if x > 0 else 0 for x in data['Delay']]\n",
    "(data['Delay'] > 0).sum(), (data['Delay'] < 0).sum(), (data['Delay'] == 0).sum()"
   ]
  },
  {
   "cell_type": "code",
   "execution_count": 10,
   "metadata": {},
   "outputs": [],
   "source": [
    "# data.to_excel('D:/BlueDart/POC/Data_v2.xlsx', index = False)"
   ]
  },
  {
   "cell_type": "code",
   "execution_count": 11,
   "metadata": {
    "collapsed": true
   },
   "outputs": [],
   "source": [
    "# data.to_csv('D:/BlueDart/POC/Data_v2.csv', index = False)"
   ]
  },
  {
   "cell_type": "code",
   "execution_count": 12,
   "metadata": {},
   "outputs": [
    {
     "name": "stdout",
     "output_type": "stream",
     "text": [
      "Counter({'SFC': 80857, 'SPEED': 6938, 'AIRNET': 2281})\n"
     ]
    }
   ],
   "source": [
    "# Run Type\n",
    "data['Run Type'] = list(map(lambda x: x.upper(), data['Run Type']))\n",
    "print(Counter(data['Run Type']))"
   ]
  },
  {
   "cell_type": "code",
   "execution_count": 13,
   "metadata": {},
   "outputs": [],
   "source": [
    "# Month\n",
    "data['Month'] = data['DFLIGHTDT'].apply(lambda x: x.month)\n",
    "# Weekday\n",
    "data['Weekday'] = data['DFLIGHTDT'].apply(lambda x: calendar.day_name[x.weekday()])\n",
    "# Time of Departure\n",
    "intervals = pd.IntervalIndex.from_tuples([(0,4),(4,8),(8,12),(12,16),(16,20),(20,24)],closed='left')\n",
    "data['Time_Interval'] = pd.cut(data['Sch. Departure'].dt.hour, intervals)"
   ]
  },
  {
   "cell_type": "code",
   "execution_count": 14,
   "metadata": {},
   "outputs": [
    {
     "data": {
      "text/html": [
       "<div>\n",
       "<style>\n",
       "    .dataframe thead tr:only-child th {\n",
       "        text-align: right;\n",
       "    }\n",
       "\n",
       "    .dataframe thead th {\n",
       "        text-align: left;\n",
       "    }\n",
       "\n",
       "    .dataframe tbody tr th {\n",
       "        vertical-align: top;\n",
       "    }\n",
       "</style>\n",
       "<table border=\"1\" class=\"dataframe\">\n",
       "  <thead>\n",
       "    <tr style=\"text-align: right;\">\n",
       "      <th>O_D_city_type</th>\n",
       "      <th>Metro/Metro</th>\n",
       "      <th>Metro/Non-Metro</th>\n",
       "      <th>Non-Metro/Metro</th>\n",
       "      <th>Non-Metro/Non-Metro</th>\n",
       "    </tr>\n",
       "    <tr>\n",
       "      <th>Delay_Flag</th>\n",
       "      <th></th>\n",
       "      <th></th>\n",
       "      <th></th>\n",
       "      <th></th>\n",
       "    </tr>\n",
       "  </thead>\n",
       "  <tbody>\n",
       "    <tr>\n",
       "      <th>0</th>\n",
       "      <td>0.477477</td>\n",
       "      <td>0.545029</td>\n",
       "      <td>0.600722</td>\n",
       "      <td>0.65356</td>\n",
       "    </tr>\n",
       "    <tr>\n",
       "      <th>1</th>\n",
       "      <td>0.522523</td>\n",
       "      <td>0.454971</td>\n",
       "      <td>0.399278</td>\n",
       "      <td>0.34644</td>\n",
       "    </tr>\n",
       "  </tbody>\n",
       "</table>\n",
       "</div>"
      ],
      "text/plain": [
       "O_D_city_type  Metro/Metro  Metro/Non-Metro  Non-Metro/Metro  \\\n",
       "Delay_Flag                                                     \n",
       "0                 0.477477         0.545029         0.600722   \n",
       "1                 0.522523         0.454971         0.399278   \n",
       "\n",
       "O_D_city_type  Non-Metro/Non-Metro  \n",
       "Delay_Flag                          \n",
       "0                          0.65356  \n",
       "1                          0.34644  "
      ]
     },
     "execution_count": 14,
     "metadata": {},
     "output_type": "execute_result"
    }
   ],
   "source": [
    "# City Type\n",
    "data['O_D_city_type'] = data['O_City_type'] + '/' + data['D_City_type']\n",
    "pd.crosstab(index=data['Delay_Flag'],columns=data['O_D_city_type']).apply(lambda x: x/x.sum(), axis=0)"
   ]
  },
  {
   "cell_type": "code",
   "execution_count": 15,
   "metadata": {},
   "outputs": [
    {
     "data": {
      "text/plain": [
       "(438, 369)"
      ]
     },
     "execution_count": 15,
     "metadata": {},
     "output_type": "execute_result"
    }
   ],
   "source": [
    "len(set(data['Route'])), len(set(data['Vendor']))"
   ]
  },
  {
   "cell_type": "code",
   "execution_count": 16,
   "metadata": {},
   "outputs": [
    {
     "name": "stdout",
     "output_type": "stream",
     "text": [
      "(20, 4)\n"
     ]
    },
    {
     "data": {
      "text/html": [
       "<div>\n",
       "<style>\n",
       "    .dataframe thead tr:only-child th {\n",
       "        text-align: right;\n",
       "    }\n",
       "\n",
       "    .dataframe thead th {\n",
       "        text-align: left;\n",
       "    }\n",
       "\n",
       "    .dataframe tbody tr th {\n",
       "        vertical-align: top;\n",
       "    }\n",
       "</style>\n",
       "<table border=\"1\" class=\"dataframe\">\n",
       "  <thead>\n",
       "    <tr style=\"text-align: right;\">\n",
       "      <th></th>\n",
       "      <th></th>\n",
       "      <th>Route</th>\n",
       "      <th>Delay_Flag</th>\n",
       "      <th>1</th>\n",
       "      <th>0</th>\n",
       "    </tr>\n",
       "    <tr>\n",
       "      <th>O_D_city_type</th>\n",
       "      <th>Route</th>\n",
       "      <th></th>\n",
       "      <th></th>\n",
       "      <th></th>\n",
       "      <th></th>\n",
       "    </tr>\n",
       "  </thead>\n",
       "  <tbody>\n",
       "    <tr>\n",
       "      <th rowspan=\"4\" valign=\"top\">Metro/Metro</th>\n",
       "      <th>BBL</th>\n",
       "      <td>807</td>\n",
       "      <td>716</td>\n",
       "      <td>0.887237</td>\n",
       "      <td>0.112763</td>\n",
       "    </tr>\n",
       "    <tr>\n",
       "      <th>BTM</th>\n",
       "      <td>439</td>\n",
       "      <td>127</td>\n",
       "      <td>0.289294</td>\n",
       "      <td>0.710706</td>\n",
       "    </tr>\n",
       "    <tr>\n",
       "      <th>GBT</th>\n",
       "      <td>356</td>\n",
       "      <td>95</td>\n",
       "      <td>0.266854</td>\n",
       "      <td>0.733146</td>\n",
       "    </tr>\n",
       "    <tr>\n",
       "      <th>GVH</th>\n",
       "      <td>386</td>\n",
       "      <td>98</td>\n",
       "      <td>0.253886</td>\n",
       "      <td>0.746114</td>\n",
       "    </tr>\n",
       "    <tr>\n",
       "      <th rowspan=\"5\" valign=\"top\">Metro/Non-Metro</th>\n",
       "      <th>BCO</th>\n",
       "      <td>669</td>\n",
       "      <td>82</td>\n",
       "      <td>0.122571</td>\n",
       "      <td>0.877429</td>\n",
       "    </tr>\n",
       "    <tr>\n",
       "      <th>BTR</th>\n",
       "      <td>422</td>\n",
       "      <td>47</td>\n",
       "      <td>0.111374</td>\n",
       "      <td>0.888626</td>\n",
       "    </tr>\n",
       "    <tr>\n",
       "      <th>BTS</th>\n",
       "      <td>677</td>\n",
       "      <td>175</td>\n",
       "      <td>0.258493</td>\n",
       "      <td>0.741507</td>\n",
       "    </tr>\n",
       "    <tr>\n",
       "      <th>KSG</th>\n",
       "      <td>496</td>\n",
       "      <td>112</td>\n",
       "      <td>0.225806</td>\n",
       "      <td>0.774194</td>\n",
       "    </tr>\n",
       "    <tr>\n",
       "      <th>NAC</th>\n",
       "      <td>365</td>\n",
       "      <td>66</td>\n",
       "      <td>0.180822</td>\n",
       "      <td>0.819178</td>\n",
       "    </tr>\n",
       "    <tr>\n",
       "      <th rowspan=\"5\" valign=\"top\">Non-Metro/Metro</th>\n",
       "      <th>ADL</th>\n",
       "      <td>376</td>\n",
       "      <td>50</td>\n",
       "      <td>0.132979</td>\n",
       "      <td>0.867021</td>\n",
       "    </tr>\n",
       "    <tr>\n",
       "      <th>COB</th>\n",
       "      <td>455</td>\n",
       "      <td>38</td>\n",
       "      <td>0.083516</td>\n",
       "      <td>0.916484</td>\n",
       "    </tr>\n",
       "    <tr>\n",
       "      <th>GXK</th>\n",
       "      <td>400</td>\n",
       "      <td>44</td>\n",
       "      <td>0.110000</td>\n",
       "      <td>0.890000</td>\n",
       "    </tr>\n",
       "    <tr>\n",
       "      <th>PQB</th>\n",
       "      <td>448</td>\n",
       "      <td>108</td>\n",
       "      <td>0.241071</td>\n",
       "      <td>0.758929</td>\n",
       "    </tr>\n",
       "    <tr>\n",
       "      <th>TRB</th>\n",
       "      <td>510</td>\n",
       "      <td>142</td>\n",
       "      <td>0.278431</td>\n",
       "      <td>0.721569</td>\n",
       "    </tr>\n",
       "    <tr>\n",
       "      <th rowspan=\"6\" valign=\"top\">Non-Metro/Non-Metro</th>\n",
       "      <th>AVPWBBA</th>\n",
       "      <td>375</td>\n",
       "      <td>26</td>\n",
       "      <td>0.069333</td>\n",
       "      <td>0.930667</td>\n",
       "    </tr>\n",
       "    <tr>\n",
       "      <th>BAM</th>\n",
       "      <td>897</td>\n",
       "      <td>187</td>\n",
       "      <td>0.208473</td>\n",
       "      <td>0.791527</td>\n",
       "    </tr>\n",
       "    <tr>\n",
       "      <th>IBP</th>\n",
       "      <td>389</td>\n",
       "      <td>73</td>\n",
       "      <td>0.187661</td>\n",
       "      <td>0.812339</td>\n",
       "    </tr>\n",
       "    <tr>\n",
       "      <th>LAM</th>\n",
       "      <td>516</td>\n",
       "      <td>63</td>\n",
       "      <td>0.122093</td>\n",
       "      <td>0.877907</td>\n",
       "    </tr>\n",
       "    <tr>\n",
       "      <th>MOB</th>\n",
       "      <td>488</td>\n",
       "      <td>106</td>\n",
       "      <td>0.217213</td>\n",
       "      <td>0.782787</td>\n",
       "    </tr>\n",
       "    <tr>\n",
       "      <th>STC</th>\n",
       "      <td>443</td>\n",
       "      <td>49</td>\n",
       "      <td>0.110609</td>\n",
       "      <td>0.889391</td>\n",
       "    </tr>\n",
       "  </tbody>\n",
       "</table>\n",
       "</div>"
      ],
      "text/plain": [
       "                             Route  Delay_Flag         1         0\n",
       "O_D_city_type       Route                                         \n",
       "Metro/Metro         BBL        807         716  0.887237  0.112763\n",
       "                    BTM        439         127  0.289294  0.710706\n",
       "                    GBT        356          95  0.266854  0.733146\n",
       "                    GVH        386          98  0.253886  0.746114\n",
       "Metro/Non-Metro     BCO        669          82  0.122571  0.877429\n",
       "                    BTR        422          47  0.111374  0.888626\n",
       "                    BTS        677         175  0.258493  0.741507\n",
       "                    KSG        496         112  0.225806  0.774194\n",
       "                    NAC        365          66  0.180822  0.819178\n",
       "Non-Metro/Metro     ADL        376          50  0.132979  0.867021\n",
       "                    COB        455          38  0.083516  0.916484\n",
       "                    GXK        400          44  0.110000  0.890000\n",
       "                    PQB        448         108  0.241071  0.758929\n",
       "                    TRB        510         142  0.278431  0.721569\n",
       "Non-Metro/Non-Metro AVPWBBA    375          26  0.069333  0.930667\n",
       "                    BAM        897         187  0.208473  0.791527\n",
       "                    IBP        389          73  0.187661  0.812339\n",
       "                    LAM        516          63  0.122093  0.877907\n",
       "                    MOB        488         106  0.217213  0.782787\n",
       "                    STC        443          49  0.110609  0.889391"
      ]
     },
     "execution_count": 16,
     "metadata": {},
     "output_type": "execute_result"
    }
   ],
   "source": [
    "# Route\n",
    "route_df = data.groupby(['O_D_city_type','Route']).agg({'Route':'count','Delay_Flag':'sum'})\n",
    "route_df['1'] = route_df['Delay_Flag']/route_df['Route']\n",
    "route_df['0'] = 1 - route_df['1']\n",
    "r_df = route_df.loc[(route_df['Route'] > 350) & (np.abs(route_df['1'] - route_df['0']) > 0.4)]\n",
    "print(r_df.shape)\n",
    "r_df"
   ]
  },
  {
   "cell_type": "code",
   "execution_count": 17,
   "metadata": {},
   "outputs": [
    {
     "name": "stdout",
     "output_type": "stream",
     "text": [
      "20\n"
     ]
    }
   ],
   "source": [
    "# Imp_Routes\n",
    "imp_route = list(set([i[1] for i in list(r_df.index)]))\n",
    "print(len(imp_route))\n",
    "data['Imp_Routes'] = np.where(data['Route'].isin(imp_route), data['Route'], 'Others')"
   ]
  },
  {
   "cell_type": "code",
   "execution_count": 18,
   "metadata": {},
   "outputs": [
    {
     "name": "stdout",
     "output_type": "stream",
     "text": [
      "(25, 4)\n"
     ]
    },
    {
     "data": {
      "text/html": [
       "<div>\n",
       "<style>\n",
       "    .dataframe thead tr:only-child th {\n",
       "        text-align: right;\n",
       "    }\n",
       "\n",
       "    .dataframe thead th {\n",
       "        text-align: left;\n",
       "    }\n",
       "\n",
       "    .dataframe tbody tr th {\n",
       "        vertical-align: top;\n",
       "    }\n",
       "</style>\n",
       "<table border=\"1\" class=\"dataframe\">\n",
       "  <thead>\n",
       "    <tr style=\"text-align: right;\">\n",
       "      <th></th>\n",
       "      <th></th>\n",
       "      <th>Vendor</th>\n",
       "      <th>Delay_Flag</th>\n",
       "      <th>1</th>\n",
       "      <th>0</th>\n",
       "    </tr>\n",
       "    <tr>\n",
       "      <th>O_D_city_type</th>\n",
       "      <th>Vendor</th>\n",
       "      <th></th>\n",
       "      <th></th>\n",
       "      <th></th>\n",
       "      <th></th>\n",
       "    </tr>\n",
       "  </thead>\n",
       "  <tbody>\n",
       "    <tr>\n",
       "      <th rowspan=\"4\" valign=\"top\">Metro/Metro</th>\n",
       "      <th>ABC10</th>\n",
       "      <td>1190</td>\n",
       "      <td>221</td>\n",
       "      <td>0.185714</td>\n",
       "      <td>0.814286</td>\n",
       "    </tr>\n",
       "    <tr>\n",
       "      <th>ABC124</th>\n",
       "      <td>540</td>\n",
       "      <td>383</td>\n",
       "      <td>0.709259</td>\n",
       "      <td>0.290741</td>\n",
       "    </tr>\n",
       "    <tr>\n",
       "      <th>ABC180</th>\n",
       "      <td>367</td>\n",
       "      <td>305</td>\n",
       "      <td>0.831063</td>\n",
       "      <td>0.168937</td>\n",
       "    </tr>\n",
       "    <tr>\n",
       "      <th>ABC49</th>\n",
       "      <td>389</td>\n",
       "      <td>14</td>\n",
       "      <td>0.035990</td>\n",
       "      <td>0.964010</td>\n",
       "    </tr>\n",
       "    <tr>\n",
       "      <th rowspan=\"3\" valign=\"top\">Metro/Non-Metro</th>\n",
       "      <th>ABC15</th>\n",
       "      <td>376</td>\n",
       "      <td>42</td>\n",
       "      <td>0.111702</td>\n",
       "      <td>0.888298</td>\n",
       "    </tr>\n",
       "    <tr>\n",
       "      <th>ABC31</th>\n",
       "      <td>889</td>\n",
       "      <td>161</td>\n",
       "      <td>0.181102</td>\n",
       "      <td>0.818898</td>\n",
       "    </tr>\n",
       "    <tr>\n",
       "      <th>ABC51</th>\n",
       "      <td>537</td>\n",
       "      <td>92</td>\n",
       "      <td>0.171322</td>\n",
       "      <td>0.828678</td>\n",
       "    </tr>\n",
       "    <tr>\n",
       "      <th rowspan=\"5\" valign=\"top\">Non-Metro/Metro</th>\n",
       "      <th>ABC12</th>\n",
       "      <td>755</td>\n",
       "      <td>135</td>\n",
       "      <td>0.178808</td>\n",
       "      <td>0.821192</td>\n",
       "    </tr>\n",
       "    <tr>\n",
       "      <th>ABC15</th>\n",
       "      <td>384</td>\n",
       "      <td>42</td>\n",
       "      <td>0.109375</td>\n",
       "      <td>0.890625</td>\n",
       "    </tr>\n",
       "    <tr>\n",
       "      <th>ABC31</th>\n",
       "      <td>1038</td>\n",
       "      <td>308</td>\n",
       "      <td>0.296724</td>\n",
       "      <td>0.703276</td>\n",
       "    </tr>\n",
       "    <tr>\n",
       "      <th>ABC34</th>\n",
       "      <td>425</td>\n",
       "      <td>392</td>\n",
       "      <td>0.922353</td>\n",
       "      <td>0.077647</td>\n",
       "    </tr>\n",
       "    <tr>\n",
       "      <th>ABC51</th>\n",
       "      <td>376</td>\n",
       "      <td>104</td>\n",
       "      <td>0.276596</td>\n",
       "      <td>0.723404</td>\n",
       "    </tr>\n",
       "    <tr>\n",
       "      <th rowspan=\"13\" valign=\"top\">Non-Metro/Non-Metro</th>\n",
       "      <th>ABC211</th>\n",
       "      <td>430</td>\n",
       "      <td>51</td>\n",
       "      <td>0.118605</td>\n",
       "      <td>0.881395</td>\n",
       "    </tr>\n",
       "    <tr>\n",
       "      <th>ABC251</th>\n",
       "      <td>890</td>\n",
       "      <td>187</td>\n",
       "      <td>0.210112</td>\n",
       "      <td>0.789888</td>\n",
       "    </tr>\n",
       "    <tr>\n",
       "      <th>ABC27</th>\n",
       "      <td>664</td>\n",
       "      <td>114</td>\n",
       "      <td>0.171687</td>\n",
       "      <td>0.828313</td>\n",
       "    </tr>\n",
       "    <tr>\n",
       "      <th>ABC36</th>\n",
       "      <td>384</td>\n",
       "      <td>4</td>\n",
       "      <td>0.010417</td>\n",
       "      <td>0.989583</td>\n",
       "    </tr>\n",
       "    <tr>\n",
       "      <th>ABC54</th>\n",
       "      <td>614</td>\n",
       "      <td>162</td>\n",
       "      <td>0.263844</td>\n",
       "      <td>0.736156</td>\n",
       "    </tr>\n",
       "    <tr>\n",
       "      <th>ABC57</th>\n",
       "      <td>1042</td>\n",
       "      <td>139</td>\n",
       "      <td>0.133397</td>\n",
       "      <td>0.866603</td>\n",
       "    </tr>\n",
       "    <tr>\n",
       "      <th>ABC58</th>\n",
       "      <td>423</td>\n",
       "      <td>367</td>\n",
       "      <td>0.867612</td>\n",
       "      <td>0.132388</td>\n",
       "    </tr>\n",
       "    <tr>\n",
       "      <th>ABC60</th>\n",
       "      <td>1471</td>\n",
       "      <td>1054</td>\n",
       "      <td>0.716519</td>\n",
       "      <td>0.283481</td>\n",
       "    </tr>\n",
       "    <tr>\n",
       "      <th>ABC69</th>\n",
       "      <td>487</td>\n",
       "      <td>53</td>\n",
       "      <td>0.108830</td>\n",
       "      <td>0.891170</td>\n",
       "    </tr>\n",
       "    <tr>\n",
       "      <th>ABC78</th>\n",
       "      <td>472</td>\n",
       "      <td>92</td>\n",
       "      <td>0.194915</td>\n",
       "      <td>0.805085</td>\n",
       "    </tr>\n",
       "    <tr>\n",
       "      <th>ABC85</th>\n",
       "      <td>409</td>\n",
       "      <td>5</td>\n",
       "      <td>0.012225</td>\n",
       "      <td>0.987775</td>\n",
       "    </tr>\n",
       "    <tr>\n",
       "      <th>ABC9</th>\n",
       "      <td>408</td>\n",
       "      <td>98</td>\n",
       "      <td>0.240196</td>\n",
       "      <td>0.759804</td>\n",
       "    </tr>\n",
       "    <tr>\n",
       "      <th>ABC97</th>\n",
       "      <td>951</td>\n",
       "      <td>136</td>\n",
       "      <td>0.143007</td>\n",
       "      <td>0.856993</td>\n",
       "    </tr>\n",
       "  </tbody>\n",
       "</table>\n",
       "</div>"
      ],
      "text/plain": [
       "                            Vendor  Delay_Flag         1         0\n",
       "O_D_city_type       Vendor                                        \n",
       "Metro/Metro         ABC10     1190         221  0.185714  0.814286\n",
       "                    ABC124     540         383  0.709259  0.290741\n",
       "                    ABC180     367         305  0.831063  0.168937\n",
       "                    ABC49      389          14  0.035990  0.964010\n",
       "Metro/Non-Metro     ABC15      376          42  0.111702  0.888298\n",
       "                    ABC31      889         161  0.181102  0.818898\n",
       "                    ABC51      537          92  0.171322  0.828678\n",
       "Non-Metro/Metro     ABC12      755         135  0.178808  0.821192\n",
       "                    ABC15      384          42  0.109375  0.890625\n",
       "                    ABC31     1038         308  0.296724  0.703276\n",
       "                    ABC34      425         392  0.922353  0.077647\n",
       "                    ABC51      376         104  0.276596  0.723404\n",
       "Non-Metro/Non-Metro ABC211     430          51  0.118605  0.881395\n",
       "                    ABC251     890         187  0.210112  0.789888\n",
       "                    ABC27      664         114  0.171687  0.828313\n",
       "                    ABC36      384           4  0.010417  0.989583\n",
       "                    ABC54      614         162  0.263844  0.736156\n",
       "                    ABC57     1042         139  0.133397  0.866603\n",
       "                    ABC58      423         367  0.867612  0.132388\n",
       "                    ABC60     1471        1054  0.716519  0.283481\n",
       "                    ABC69      487          53  0.108830  0.891170\n",
       "                    ABC78      472          92  0.194915  0.805085\n",
       "                    ABC85      409           5  0.012225  0.987775\n",
       "                    ABC9       408          98  0.240196  0.759804\n",
       "                    ABC97      951         136  0.143007  0.856993"
      ]
     },
     "execution_count": 18,
     "metadata": {},
     "output_type": "execute_result"
    }
   ],
   "source": [
    "# Vendors\n",
    "vendor_df = data.groupby(['O_D_city_type','Vendor']).agg({'Vendor':'count','Delay_Flag':'sum'})\n",
    "vendor_df['1'] = vendor_df['Delay_Flag']/vendor_df['Vendor']\n",
    "vendor_df['0'] = 1 - vendor_df['1']\n",
    "v_df = vendor_df.loc[(vendor_df['Vendor'] > 350) & (np.abs(vendor_df['1'] - vendor_df['0']) > 0.4)]\n",
    "print(v_df.shape)\n",
    "v_df"
   ]
  },
  {
   "cell_type": "code",
   "execution_count": 19,
   "metadata": {},
   "outputs": [
    {
     "name": "stdout",
     "output_type": "stream",
     "text": [
      "22\n"
     ]
    }
   ],
   "source": [
    "# Imp_Vendors\n",
    "imp_vendor = list(set([i[1] for i in list(v_df.index)]))\n",
    "print(len(imp_vendor))\n",
    "data['Imp_Vendors'] = np.where(data['Vendor'].isin(imp_vendor), data['Vendor'], 'Others')\n",
    "# Vendor_city_type\n",
    "imp_vendor_ct = list(set([i[1] + '_' + i[0] for i in list(v_df.index)]))\n",
    "vendor_ct = (data['Vendor'] + '_' + data['O_D_city_type'])\n",
    "data['Vendor_city_type'] = np.where(vendor_ct.isin(imp_vendor_ct), vendor_ct, 'Others')"
   ]
  },
  {
   "cell_type": "code",
   "execution_count": 719,
   "metadata": {},
   "outputs": [
    {
     "name": "stdout",
     "output_type": "stream",
     "text": [
      "(63, 4)\n"
     ]
    },
    {
     "data": {
      "text/html": [
       "<div>\n",
       "<style>\n",
       "    .dataframe thead tr:only-child th {\n",
       "        text-align: right;\n",
       "    }\n",
       "\n",
       "    .dataframe thead th {\n",
       "        text-align: left;\n",
       "    }\n",
       "\n",
       "    .dataframe tbody tr th {\n",
       "        vertical-align: top;\n",
       "    }\n",
       "</style>\n",
       "<table border=\"1\" class=\"dataframe\">\n",
       "  <thead>\n",
       "    <tr style=\"text-align: right;\">\n",
       "      <th></th>\n",
       "      <th></th>\n",
       "      <th>CVEHTYPE</th>\n",
       "      <th>Delay_Flag</th>\n",
       "      <th>1</th>\n",
       "      <th>0</th>\n",
       "    </tr>\n",
       "    <tr>\n",
       "      <th>Vendor</th>\n",
       "      <th>CVEHTYPE</th>\n",
       "      <th></th>\n",
       "      <th></th>\n",
       "      <th></th>\n",
       "      <th></th>\n",
       "    </tr>\n",
       "  </thead>\n",
       "  <tbody>\n",
       "    <tr>\n",
       "      <th>ABC1</th>\n",
       "      <th>H24</th>\n",
       "      <td>293</td>\n",
       "      <td>52</td>\n",
       "      <td>0.177474</td>\n",
       "      <td>0.822526</td>\n",
       "    </tr>\n",
       "    <tr>\n",
       "      <th>ABC10</th>\n",
       "      <th>H24</th>\n",
       "      <td>1795</td>\n",
       "      <td>320</td>\n",
       "      <td>0.178273</td>\n",
       "      <td>0.821727</td>\n",
       "    </tr>\n",
       "    <tr>\n",
       "      <th>ABC100</th>\n",
       "      <th>M20</th>\n",
       "      <td>353</td>\n",
       "      <td>79</td>\n",
       "      <td>0.223796</td>\n",
       "      <td>0.776204</td>\n",
       "    </tr>\n",
       "    <tr>\n",
       "      <th>ABC12</th>\n",
       "      <th>H20</th>\n",
       "      <td>299</td>\n",
       "      <td>41</td>\n",
       "      <td>0.137124</td>\n",
       "      <td>0.862876</td>\n",
       "    </tr>\n",
       "    <tr>\n",
       "      <th>ABC124</th>\n",
       "      <th>MXL</th>\n",
       "      <td>424</td>\n",
       "      <td>307</td>\n",
       "      <td>0.724057</td>\n",
       "      <td>0.275943</td>\n",
       "    </tr>\n",
       "  </tbody>\n",
       "</table>\n",
       "</div>"
      ],
      "text/plain": [
       "                 CVEHTYPE  Delay_Flag         1         0\n",
       "Vendor CVEHTYPE                                          \n",
       "ABC1   H24            293          52  0.177474  0.822526\n",
       "ABC10  H24           1795         320  0.178273  0.821727\n",
       "ABC100 M20            353          79  0.223796  0.776204\n",
       "ABC12  H20            299          41  0.137124  0.862876\n",
       "ABC124 MXL            424         307  0.724057  0.275943"
      ]
     },
     "execution_count": 719,
     "metadata": {},
     "output_type": "execute_result"
    }
   ],
   "source": [
    "# CVEHICLETYPE\n",
    "vhtype_df = data.groupby(['Vendor','CVEHTYPE']).agg({'CVEHTYPE':'count','Delay_Flag':'sum'})\n",
    "vhtype_df['1'] = vhtype_df['Delay_Flag']/vhtype_df['CVEHTYPE']\n",
    "vhtype_df['0'] = 1 - vhtype_df['1']\n",
    "vh_df = vhtype_df.loc[(vhtype_df['CVEHTYPE'] > 200) & (np.abs(vhtype_df['1'] - vhtype_df['0']) > 0.4)]\n",
    "print(vh_df.shape)\n",
    "vh_df.head()"
   ]
  },
  {
   "cell_type": "code",
   "execution_count": 720,
   "metadata": {},
   "outputs": [
    {
     "name": "stdout",
     "output_type": "stream",
     "text": [
      "12\n"
     ]
    }
   ],
   "source": [
    "#vhtype_df\n",
    "imp_veh = list(set([i[1] for i in list(vh_df.index)]))\n",
    "print(len(imp_veh))\n",
    "data['Imp_CVEHTYPE'] = np.where(data['CVEHTYPE'].isin(imp_veh), data['CVEHTYPE'], 'Others')"
   ]
  },
  {
   "cell_type": "code",
   "execution_count": 721,
   "metadata": {},
   "outputs": [],
   "source": [
    "def one_hot(df, cols):\n",
    "    \"\"\"\n",
    "    @param df pandas DataFrame\n",
    "    @param cols a list of columns to encode \n",
    "    @return a DataFrame with one-hot encoding\n",
    "    \"\"\"\n",
    "    for each in cols:\n",
    "        dummies = pd.get_dummies(df[each], prefix=each, drop_first=False)\n",
    "        df = pd.concat([df, dummies], axis=1)\n",
    "        #df.drop([each],axis=1, inplace=True)\n",
    "    return df"
   ]
  },
  {
   "cell_type": "code",
   "execution_count": 722,
   "metadata": {},
   "outputs": [
    {
     "data": {
      "text/plain": [
       "Index(['Run Type', 'NCARNETNO', 'DFLIGHTDT', 'CFLIGHTNO', 'Route', 'CORG',\n",
       "       'O_City_type', 'Org-Reg', 'CDST', 'D_City_type', 'Dst_Reg', 'Distance',\n",
       "       'CVEHTYPE', 'TYPE', 'Vendor', 'Capacity', 'Consdwt', 'Pcs',\n",
       "       'Util_conwt', 'Crit', 'NHIRE_AMT', 'FS', 'Incentive/Penalty',\n",
       "       'NOTHERSAMT', 'NDISCOUNT', 'NBDEDEDUCT', 'Intra/Inter', 'CCONTTYPE',\n",
       "       'Sch/NSch/Spl', 'Sch. Departure', 'Act. Departure', 'Sch. Arrival',\n",
       "       'Actual Arrival', 'Expected Arrival', 'O_D', 'Departure delay',\n",
       "       'Arrival Delay', 'day', 'month', 'year', 'date', 'Departure Year',\n",
       "       'Actual Arrival Year', 'Delay', 'Delay_Flag', 'Month', 'Weekday',\n",
       "       'Time_Interval', 'O_D_city_type', 'Imp_Routes', 'Imp_Vendors',\n",
       "       'Vendor_city_type', 'Imp_CVEHTYPE'],\n",
       "      dtype='object')"
      ]
     },
     "execution_count": 722,
     "metadata": {},
     "output_type": "execute_result"
    }
   ],
   "source": [
    "data.columns"
   ]
  },
  {
   "cell_type": "code",
   "execution_count": 723,
   "metadata": {
    "collapsed": true
   },
   "outputs": [],
   "source": [
    "categorical_cols = ['Run Type','TYPE', 'Crit','Intra/Inter', 'CCONTTYPE',\n",
    "       'Sch/NSch/Spl','O_D','Imp_Routes','Imp_Vendors','Imp_CVEHTYPE', 'O_D_city_type', 'Month', 'Weekday','Time_Interval']"
   ]
  },
  {
   "cell_type": "code",
   "execution_count": 724,
   "metadata": {},
   "outputs": [
    {
     "name": "stdout",
     "output_type": "stream",
     "text": [
      "(90076, 53)\n"
     ]
    }
   ],
   "source": [
    "print(data.shape)"
   ]
  },
  {
   "cell_type": "code",
   "execution_count": 725,
   "metadata": {
    "collapsed": true
   },
   "outputs": [
    {
     "name": "stdout",
     "output_type": "stream",
     "text": [
      "(90076, 189)\n"
     ]
    }
   ],
   "source": [
    "data1 = one_hot(data, categorical_cols)\n",
    "print(data1.shape)"
   ]
  },
  {
   "cell_type": "code",
   "execution_count": 726,
   "metadata": {},
   "outputs": [
    {
     "data": {
      "text/plain": [
       "(90076, 180)"
      ]
     },
     "execution_count": 726,
     "metadata": {},
     "output_type": "execute_result"
    }
   ],
   "source": [
    "drop_var = ['NHIRE_AMT','FS','Incentive/Penalty','NOTHERSAMT','NDISCOUNT',\n",
    "            'NBDEDEDUCT','Departure Year','Actual Arrival Year','month']\n",
    "data1.drop(drop_var,axis=1, inplace=True)\n",
    "\n",
    "data1.shape"
   ]
  },
  {
   "cell_type": "code",
   "execution_count": 728,
   "metadata": {},
   "outputs": [
    {
     "data": {
      "text/plain": [
       "['Run Type',\n",
       " 'NCARNETNO',\n",
       " 'DFLIGHTDT',\n",
       " 'CFLIGHTNO',\n",
       " 'Route',\n",
       " 'CORG',\n",
       " 'O_City_type',\n",
       " 'Org-Reg',\n",
       " 'CDST',\n",
       " 'D_City_type',\n",
       " 'Dst_Reg',\n",
       " 'Distance',\n",
       " 'CVEHTYPE',\n",
       " 'TYPE',\n",
       " 'Vendor',\n",
       " 'Capacity',\n",
       " 'Consdwt',\n",
       " 'Pcs',\n",
       " 'Util_conwt',\n",
       " 'Crit',\n",
       " 'Intra/Inter',\n",
       " 'CCONTTYPE',\n",
       " 'Sch/NSch/Spl',\n",
       " 'Sch. Departure',\n",
       " 'Act. Departure',\n",
       " 'Sch. Arrival',\n",
       " 'Actual Arrival',\n",
       " 'Expected Arrival',\n",
       " 'O_D',\n",
       " 'Departure delay',\n",
       " 'Arrival Delay',\n",
       " 'day',\n",
       " 'year',\n",
       " 'date',\n",
       " 'Delay',\n",
       " 'Delay_Flag',\n",
       " 'Month',\n",
       " 'Weekday',\n",
       " 'Time_Interval',\n",
       " 'O_D_city_type',\n",
       " 'Imp_Routes',\n",
       " 'Imp_Vendors',\n",
       " 'Vendor_city_type',\n",
       " 'Imp_CVEHTYPE',\n",
       " 'Run Type_AIRNET',\n",
       " 'Run Type_SFC',\n",
       " 'Run Type_SPEED',\n",
       " 'TYPE_MXL',\n",
       " 'TYPE_SXL',\n",
       " 'Crit_40-50%',\n",
       " 'Crit_50-60%',\n",
       " 'Crit_60-70%',\n",
       " 'Crit_<40%',\n",
       " 'Crit_>70%',\n",
       " 'Intra/Inter_Inter',\n",
       " 'Intra/Inter_Intra',\n",
       " 'CCONTTYPE_B',\n",
       " 'CCONTTYPE_C',\n",
       " 'CCONTTYPE_M',\n",
       " 'Sch/NSch/Spl_Non-Sch Run',\n",
       " 'Sch/NSch/Spl_Sch Run',\n",
       " 'Sch/NSch/Spl_Spl Run',\n",
       " 'O_D_EAST-EAST',\n",
       " 'O_D_EAST-NORTH',\n",
       " 'O_D_EAST-SOUTH1',\n",
       " 'O_D_EAST-SOUTH2',\n",
       " 'O_D_EAST-WEST1',\n",
       " 'O_D_EAST-WEST2',\n",
       " 'O_D_NORTH-EAST',\n",
       " 'O_D_NORTH-NORTH',\n",
       " 'O_D_NORTH-SOUTH1',\n",
       " 'O_D_NORTH-SOUTH2',\n",
       " 'O_D_NORTH-WEST1',\n",
       " 'O_D_NORTH-WEST2',\n",
       " 'O_D_SOUTH1-EAST',\n",
       " 'O_D_SOUTH1-NORTH',\n",
       " 'O_D_SOUTH1-SOUTH1',\n",
       " 'O_D_SOUTH1-SOUTH2',\n",
       " 'O_D_SOUTH1-WEST1',\n",
       " 'O_D_SOUTH1-WEST2',\n",
       " 'O_D_SOUTH2-EAST',\n",
       " 'O_D_SOUTH2-NORTH',\n",
       " 'O_D_SOUTH2-SOUTH1',\n",
       " 'O_D_SOUTH2-SOUTH2',\n",
       " 'O_D_SOUTH2-WEST1',\n",
       " 'O_D_SOUTH2-WEST2',\n",
       " 'O_D_WEST1-EAST',\n",
       " 'O_D_WEST1-NORTH',\n",
       " 'O_D_WEST1-SOUTH1',\n",
       " 'O_D_WEST1-SOUTH2',\n",
       " 'O_D_WEST1-WEST1',\n",
       " 'O_D_WEST1-WEST2',\n",
       " 'O_D_WEST2-EAST',\n",
       " 'O_D_WEST2-NORTH',\n",
       " 'O_D_WEST2-SOUTH1',\n",
       " 'O_D_WEST2-SOUTH2',\n",
       " 'O_D_WEST2-WEST1',\n",
       " 'O_D_WEST2-WEST2',\n",
       " 'Imp_Routes_ADL',\n",
       " 'Imp_Routes_AVPWBBA',\n",
       " 'Imp_Routes_BAM',\n",
       " 'Imp_Routes_BBL',\n",
       " 'Imp_Routes_BCO',\n",
       " 'Imp_Routes_BTM',\n",
       " 'Imp_Routes_BTR',\n",
       " 'Imp_Routes_BTS',\n",
       " 'Imp_Routes_COB',\n",
       " 'Imp_Routes_GBT',\n",
       " 'Imp_Routes_GVH',\n",
       " 'Imp_Routes_GXK',\n",
       " 'Imp_Routes_IBP',\n",
       " 'Imp_Routes_KSG',\n",
       " 'Imp_Routes_LAM',\n",
       " 'Imp_Routes_MOB',\n",
       " 'Imp_Routes_NAC',\n",
       " 'Imp_Routes_Others',\n",
       " 'Imp_Routes_PQB',\n",
       " 'Imp_Routes_STC',\n",
       " 'Imp_Routes_TRB',\n",
       " 'Imp_Vendors_ABC10',\n",
       " 'Imp_Vendors_ABC12',\n",
       " 'Imp_Vendors_ABC124',\n",
       " 'Imp_Vendors_ABC15',\n",
       " 'Imp_Vendors_ABC180',\n",
       " 'Imp_Vendors_ABC211',\n",
       " 'Imp_Vendors_ABC251',\n",
       " 'Imp_Vendors_ABC27',\n",
       " 'Imp_Vendors_ABC31',\n",
       " 'Imp_Vendors_ABC34',\n",
       " 'Imp_Vendors_ABC36',\n",
       " 'Imp_Vendors_ABC49',\n",
       " 'Imp_Vendors_ABC51',\n",
       " 'Imp_Vendors_ABC54',\n",
       " 'Imp_Vendors_ABC57',\n",
       " 'Imp_Vendors_ABC58',\n",
       " 'Imp_Vendors_ABC60',\n",
       " 'Imp_Vendors_ABC69',\n",
       " 'Imp_Vendors_ABC78',\n",
       " 'Imp_Vendors_ABC85',\n",
       " 'Imp_Vendors_ABC9',\n",
       " 'Imp_Vendors_ABC97',\n",
       " 'Imp_Vendors_Others',\n",
       " 'Imp_CVEHTYPE_H20',\n",
       " 'Imp_CVEHTYPE_H24',\n",
       " 'Imp_CVEHTYPE_L10',\n",
       " 'Imp_CVEHTYPE_L14',\n",
       " 'Imp_CVEHTYPE_L17',\n",
       " 'Imp_CVEHTYPE_LCV',\n",
       " 'Imp_CVEHTYPE_M17',\n",
       " 'Imp_CVEHTYPE_M18',\n",
       " 'Imp_CVEHTYPE_M19',\n",
       " 'Imp_CVEHTYPE_M20',\n",
       " 'Imp_CVEHTYPE_MXL',\n",
       " 'Imp_CVEHTYPE_Others',\n",
       " 'Imp_CVEHTYPE_VAN',\n",
       " 'O_D_city_type_Metro/Metro',\n",
       " 'O_D_city_type_Metro/Non-Metro',\n",
       " 'O_D_city_type_Non-Metro/Metro',\n",
       " 'O_D_city_type_Non-Metro/Non-Metro',\n",
       " 'Month_1',\n",
       " 'Month_2',\n",
       " 'Month_3',\n",
       " 'Month_4',\n",
       " 'Month_5',\n",
       " 'Month_6',\n",
       " 'Month_7',\n",
       " 'Month_8',\n",
       " 'Weekday_Friday',\n",
       " 'Weekday_Monday',\n",
       " 'Weekday_Saturday',\n",
       " 'Weekday_Sunday',\n",
       " 'Weekday_Thursday',\n",
       " 'Weekday_Tuesday',\n",
       " 'Weekday_Wednesday',\n",
       " 'Time_Interval_[0, 4)',\n",
       " 'Time_Interval_[4, 8)',\n",
       " 'Time_Interval_[8, 12)',\n",
       " 'Time_Interval_[12, 16)',\n",
       " 'Time_Interval_[16, 20)',\n",
       " 'Time_Interval_[20, 24)']"
      ]
     },
     "execution_count": 728,
     "metadata": {},
     "output_type": "execute_result"
    }
   ],
   "source": [
    "data1.columns.tolist()"
   ]
  },
  {
   "cell_type": "code",
   "execution_count": 729,
   "metadata": {},
   "outputs": [],
   "source": [
    "data1.to_csv('D:/BlueDart/POC/Data_v5.csv', index = False)"
   ]
  },
  {
   "cell_type": "code",
   "execution_count": 444,
   "metadata": {},
   "outputs": [
    {
     "data": {
      "text/html": [
       "<div>\n",
       "<style>\n",
       "    .dataframe thead tr:only-child th {\n",
       "        text-align: right;\n",
       "    }\n",
       "\n",
       "    .dataframe thead th {\n",
       "        text-align: left;\n",
       "    }\n",
       "\n",
       "    .dataframe tbody tr th {\n",
       "        vertical-align: top;\n",
       "    }\n",
       "</style>\n",
       "<table border=\"1\" class=\"dataframe\">\n",
       "  <thead>\n",
       "    <tr style=\"text-align: right;\">\n",
       "      <th></th>\n",
       "      <th>Delay</th>\n",
       "    </tr>\n",
       "  </thead>\n",
       "  <tbody>\n",
       "    <tr>\n",
       "      <th>count</th>\n",
       "      <td>90076.000000</td>\n",
       "    </tr>\n",
       "    <tr>\n",
       "      <th>mean</th>\n",
       "      <td>1.119111</td>\n",
       "    </tr>\n",
       "    <tr>\n",
       "      <th>std</th>\n",
       "      <td>8.737856</td>\n",
       "    </tr>\n",
       "    <tr>\n",
       "      <th>min</th>\n",
       "      <td>-175.000000</td>\n",
       "    </tr>\n",
       "    <tr>\n",
       "      <th>25%</th>\n",
       "      <td>-2.000000</td>\n",
       "    </tr>\n",
       "    <tr>\n",
       "      <th>50%</th>\n",
       "      <td>0.000000</td>\n",
       "    </tr>\n",
       "    <tr>\n",
       "      <th>75%</th>\n",
       "      <td>3.000000</td>\n",
       "    </tr>\n",
       "    <tr>\n",
       "      <th>max</th>\n",
       "      <td>233.000000</td>\n",
       "    </tr>\n",
       "  </tbody>\n",
       "</table>\n",
       "</div>"
      ],
      "text/plain": [
       "              Delay\n",
       "count  90076.000000\n",
       "mean       1.119111\n",
       "std        8.737856\n",
       "min     -175.000000\n",
       "25%       -2.000000\n",
       "50%        0.000000\n",
       "75%        3.000000\n",
       "max      233.000000"
      ]
     },
     "execution_count": 444,
     "metadata": {},
     "output_type": "execute_result"
    }
   ],
   "source": [
    "pd.DataFrame(data1.Delay.describe())"
   ]
  },
  {
   "cell_type": "code",
   "execution_count": null,
   "metadata": {
    "collapsed": true
   },
   "outputs": [],
   "source": [
    "######################## EDA #######################"
   ]
  },
  {
   "cell_type": "code",
   "execution_count": 341,
   "metadata": {},
   "outputs": [],
   "source": [
    "# NCARNETNO\n",
    "# all unique"
   ]
  },
  {
   "cell_type": "code",
   "execution_count": 342,
   "metadata": {},
   "outputs": [
    {
     "data": {
      "text/plain": [
       "(Timestamp('2018-01-01 00:00:00'), Timestamp('2018-08-31 00:00:00'))"
      ]
     },
     "execution_count": 342,
     "metadata": {},
     "output_type": "execute_result"
    }
   ],
   "source": [
    "# DFLIGHTDT\n",
    "min(data['DFLIGHTDT']), max(data['DFLIGHTDT'])"
   ]
  },
  {
   "cell_type": "code",
   "execution_count": 343,
   "metadata": {},
   "outputs": [
    {
     "name": "stdout",
     "output_type": "stream",
     "text": [
      "6622\n"
     ]
    }
   ],
   "source": [
    "# CFLIGHTNO\n",
    "print(len(set(data['CFLIGHTNO'])))"
   ]
  },
  {
   "cell_type": "code",
   "execution_count": 344,
   "metadata": {},
   "outputs": [
    {
     "name": "stdout",
     "output_type": "stream",
     "text": [
      "Origin City [('BHI', 10238), ('BTH', 6784), ('MHP', 6001), ('NHH', 5825), ('AMH', 4772)]\n",
      "Destination City [('BHI', 8155), ('BTH', 6705), ('NHH', 5758), ('AMH', 5620), ('MHP', 4336)]\n"
     ]
    }
   ],
   "source": [
    "# CORG and CDST\n",
    "count_org = Counter(data['CORG'])\n",
    "count_dest = Counter(data['CDST'])\n",
    "print('Origin City', sorted(count_org.items(), key=lambda pair: pair[1], reverse=True)[:5])\n",
    "print('Destination City', sorted(count_dest.items(), key=lambda pair: pair[1], reverse=True)[:5])"
   ]
  },
  {
   "cell_type": "code",
   "execution_count": 345,
   "metadata": {},
   "outputs": [
    {
     "name": "stdout",
     "output_type": "stream",
     "text": [
      "Origin City [('Non-Metro', 49779), ('Metro', 40713)]\n",
      "Destination City [('Metro', 45711), ('Non-Metro', 44781)]\n"
     ]
    }
   ],
   "source": [
    "# City_type and City_type.1\n",
    "count_org = Counter(data['D_City_type'])\n",
    "count_dest = Counter(data['O_City_type'])\n",
    "print('Origin City', sorted(count_org.items(), key=lambda pair: pair[1], reverse=True))\n",
    "print('Destination City', sorted(count_dest.items(), key=lambda pair: pair[1], reverse=True))"
   ]
  },
  {
   "cell_type": "code",
   "execution_count": 346,
   "metadata": {},
   "outputs": [
    {
     "name": "stdout",
     "output_type": "stream",
     "text": [
      "Origin City [('NORTH', 31338), ('WEST1', 20379), ('SOUTH2', 14418), ('SOUTH1', 9420), ('EAST', 8127), ('WEST2', 6810)]\n",
      "Destination City [('NORTH', 30134), ('WEST1', 18455), ('SOUTH2', 16493), ('SOUTH1', 9239), ('EAST', 8577), ('WEST2', 7594)]\n"
     ]
    }
   ],
   "source": [
    "# Org-Reg and Dst_Reg\n",
    "count_org = Counter(data['Org-Reg'])\n",
    "count_dest = Counter(data['Dst_Reg'])\n",
    "print('Origin City', sorted(count_org.items(), key=lambda pair: pair[1], reverse=True))\n",
    "print('Destination City', sorted(count_dest.items(), key=lambda pair: pair[1], reverse=True))"
   ]
  },
  {
   "cell_type": "code",
   "execution_count": 347,
   "metadata": {},
   "outputs": [
    {
     "data": {
      "text/plain": [
       "(0, 4)"
      ]
     },
     "execution_count": 347,
     "metadata": {},
     "output_type": "execute_result"
    }
   ],
   "source": [
    "# Delay\n",
    "df = pd.DataFrame()\n",
    "df['x'] = data['Actual Arrival'] - data['Sch. Arrival']\n",
    "df['y'] = data['Act. Departure'] - data['Sch. Departure']\n",
    "df['z'] = data['Actual Arrival'] - data['Expected Arrival']\n",
    "df['a'] = df.y + df.z\n",
    "df.loc[df.x != df.a, :].shape"
   ]
  },
  {
   "cell_type": "code",
   "execution_count": 361,
   "metadata": {},
   "outputs": [
    {
     "name": "stdout",
     "output_type": "stream",
     "text": [
      "Counter({'Intra': 51983, 'Inter': 38509})\n"
     ]
    },
    {
     "data": {
      "text/html": [
       "<div>\n",
       "<style>\n",
       "    .dataframe thead tr:only-child th {\n",
       "        text-align: right;\n",
       "    }\n",
       "\n",
       "    .dataframe thead th {\n",
       "        text-align: left;\n",
       "    }\n",
       "\n",
       "    .dataframe tbody tr th {\n",
       "        vertical-align: top;\n",
       "    }\n",
       "</style>\n",
       "<table border=\"1\" class=\"dataframe\">\n",
       "  <thead>\n",
       "    <tr style=\"text-align: right;\">\n",
       "      <th>Intra/Inter</th>\n",
       "      <th>Inter</th>\n",
       "      <th>Intra</th>\n",
       "    </tr>\n",
       "    <tr>\n",
       "      <th>Delay_Flag</th>\n",
       "      <th></th>\n",
       "      <th></th>\n",
       "    </tr>\n",
       "  </thead>\n",
       "  <tbody>\n",
       "    <tr>\n",
       "      <th>0</th>\n",
       "      <td>0.501519</td>\n",
       "      <td>0.622819</td>\n",
       "    </tr>\n",
       "    <tr>\n",
       "      <th>1</th>\n",
       "      <td>0.498481</td>\n",
       "      <td>0.377181</td>\n",
       "    </tr>\n",
       "  </tbody>\n",
       "</table>\n",
       "</div>"
      ],
      "text/plain": [
       "Intra/Inter     Inter     Intra\n",
       "Delay_Flag                     \n",
       "0            0.501519  0.622819\n",
       "1            0.498481  0.377181"
      ]
     },
     "execution_count": 361,
     "metadata": {},
     "output_type": "execute_result"
    }
   ],
   "source": [
    "# Intra/Inter\n",
    "print(Counter(data['Intra/Inter']))\n",
    "pd.crosstab(index=data['Delay_Flag'],columns=data['Intra/Inter']).apply(lambda x: x/x.sum(), axis=0)"
   ]
  },
  {
   "cell_type": "code",
   "execution_count": 362,
   "metadata": {},
   "outputs": [
    {
     "name": "stdout",
     "output_type": "stream",
     "text": [
      "Counter({'Sch Run': 55936, 'Non-Sch Run': 28720, 'Spl Run': 5836})\n"
     ]
    },
    {
     "data": {
      "text/html": [
       "<div>\n",
       "<style>\n",
       "    .dataframe thead tr:only-child th {\n",
       "        text-align: right;\n",
       "    }\n",
       "\n",
       "    .dataframe thead th {\n",
       "        text-align: left;\n",
       "    }\n",
       "\n",
       "    .dataframe tbody tr th {\n",
       "        vertical-align: top;\n",
       "    }\n",
       "</style>\n",
       "<table border=\"1\" class=\"dataframe\">\n",
       "  <thead>\n",
       "    <tr style=\"text-align: right;\">\n",
       "      <th>Sch/NSch/Spl</th>\n",
       "      <th>Non-Sch Run</th>\n",
       "      <th>Sch Run</th>\n",
       "      <th>Spl Run</th>\n",
       "    </tr>\n",
       "    <tr>\n",
       "      <th>Delay_Flag</th>\n",
       "      <th></th>\n",
       "      <th></th>\n",
       "      <th></th>\n",
       "    </tr>\n",
       "  </thead>\n",
       "  <tbody>\n",
       "    <tr>\n",
       "      <th>0</th>\n",
       "      <td>0.56257</td>\n",
       "      <td>0.587976</td>\n",
       "      <td>0.452879</td>\n",
       "    </tr>\n",
       "    <tr>\n",
       "      <th>1</th>\n",
       "      <td>0.43743</td>\n",
       "      <td>0.412024</td>\n",
       "      <td>0.547121</td>\n",
       "    </tr>\n",
       "  </tbody>\n",
       "</table>\n",
       "</div>"
      ],
      "text/plain": [
       "Sch/NSch/Spl  Non-Sch Run   Sch Run   Spl Run\n",
       "Delay_Flag                                   \n",
       "0                 0.56257  0.587976  0.452879\n",
       "1                 0.43743  0.412024  0.547121"
      ]
     },
     "execution_count": 362,
     "metadata": {},
     "output_type": "execute_result"
    }
   ],
   "source": [
    "# Sch/NSch/Spl\n",
    "print(Counter(data['Sch/NSch/Spl']))\n",
    "pd.crosstab(index=data['Delay_Flag'],columns=data['Sch/NSch/Spl']).apply(lambda x: x/x.sum(), axis=0)"
   ]
  },
  {
   "cell_type": "code",
   "execution_count": 363,
   "metadata": {},
   "outputs": [
    {
     "name": "stdout",
     "output_type": "stream",
     "text": [
      "Unique Vendors: 369\n"
     ]
    },
    {
     "data": {
      "text/html": [
       "<div>\n",
       "<style>\n",
       "    .dataframe thead tr:only-child th {\n",
       "        text-align: right;\n",
       "    }\n",
       "\n",
       "    .dataframe thead th {\n",
       "        text-align: left;\n",
       "    }\n",
       "\n",
       "    .dataframe tbody tr th {\n",
       "        vertical-align: top;\n",
       "    }\n",
       "</style>\n",
       "<table border=\"1\" class=\"dataframe\">\n",
       "  <thead>\n",
       "    <tr style=\"text-align: right;\">\n",
       "      <th>Top_Vendors</th>\n",
       "      <th>ABC10</th>\n",
       "      <th>ABC12</th>\n",
       "      <th>ABC233</th>\n",
       "      <th>ABC26</th>\n",
       "      <th>ABC31</th>\n",
       "      <th>ABC46</th>\n",
       "      <th>ABC5</th>\n",
       "      <th>ABC6</th>\n",
       "      <th>ABC7</th>\n",
       "      <th>ABC8</th>\n",
       "      <th>Others</th>\n",
       "    </tr>\n",
       "    <tr>\n",
       "      <th>Delay_Flag</th>\n",
       "      <th></th>\n",
       "      <th></th>\n",
       "      <th></th>\n",
       "      <th></th>\n",
       "      <th></th>\n",
       "      <th></th>\n",
       "      <th></th>\n",
       "      <th></th>\n",
       "      <th></th>\n",
       "      <th></th>\n",
       "      <th></th>\n",
       "    </tr>\n",
       "  </thead>\n",
       "  <tbody>\n",
       "    <tr>\n",
       "      <th>0</th>\n",
       "      <td>0.814735</td>\n",
       "      <td>0.669548</td>\n",
       "      <td>0.61686</td>\n",
       "      <td>0.678878</td>\n",
       "      <td>0.762154</td>\n",
       "      <td>0.496811</td>\n",
       "      <td>0.59306</td>\n",
       "      <td>0.389555</td>\n",
       "      <td>0.470103</td>\n",
       "      <td>0.414105</td>\n",
       "      <td>0.584167</td>\n",
       "    </tr>\n",
       "    <tr>\n",
       "      <th>1</th>\n",
       "      <td>0.185265</td>\n",
       "      <td>0.330452</td>\n",
       "      <td>0.38314</td>\n",
       "      <td>0.321122</td>\n",
       "      <td>0.237846</td>\n",
       "      <td>0.503189</td>\n",
       "      <td>0.40694</td>\n",
       "      <td>0.610445</td>\n",
       "      <td>0.529897</td>\n",
       "      <td>0.585895</td>\n",
       "      <td>0.415833</td>\n",
       "    </tr>\n",
       "  </tbody>\n",
       "</table>\n",
       "</div>"
      ],
      "text/plain": [
       "Top_Vendors     ABC10     ABC12   ABC233     ABC26     ABC31     ABC46  \\\n",
       "Delay_Flag                                                               \n",
       "0            0.814735  0.669548  0.61686  0.678878  0.762154  0.496811   \n",
       "1            0.185265  0.330452  0.38314  0.321122  0.237846  0.503189   \n",
       "\n",
       "Top_Vendors     ABC5      ABC6      ABC7      ABC8    Others  \n",
       "Delay_Flag                                                    \n",
       "0            0.59306  0.389555  0.470103  0.414105  0.584167  \n",
       "1            0.40694  0.610445  0.529897  0.585895  0.415833  "
      ]
     },
     "execution_count": 363,
     "metadata": {},
     "output_type": "execute_result"
    }
   ],
   "source": [
    "# Vendor\n",
    "print('Unique Vendors:',len(set(data['Vendor'])))\n",
    "top_vendors = list(map(lambda x: x[0], sorted(Counter(data['Vendor']).items(),key=lambda pair: pair[1], reverse=True)[:10]))\n",
    "data['Top_Vendors'] = [v if v in top_vendors else 'Others' for v in data['Vendor']]\n",
    "pd.crosstab(index=data['Delay_Flag'],columns=data['Top_Vendors']).apply(lambda x: x/x.sum(), axis=0)"
   ]
  },
  {
   "cell_type": "code",
   "execution_count": 364,
   "metadata": {},
   "outputs": [
    {
     "data": {
      "text/plain": [
       "0.03999999999999204"
      ]
     },
     "execution_count": 364,
     "metadata": {},
     "output_type": "execute_result"
    }
   ],
   "source": [
    "# Utilization\n",
    "# Utilization = Weight/Capacity\n",
    "data_util = data[['Consdwt','Capacity','Util_conwt']].copy()\n",
    "data_util['Calc_Util'] = data['Consdwt']/data['Capacity']\n",
    "\n",
    "# pd.to_numeric(data_util['Util_conwt'])\n",
    "# data_util['Calc_Util']\n",
    "data_util['Util_conwt'] = data_util['Util_conwt'].str.rstrip('%').astype('float') / 100.0\n",
    "np.max(data_util['Util_conwt'] - data_util['Calc_Util'])"
   ]
  },
  {
   "cell_type": "code",
   "execution_count": 365,
   "metadata": {},
   "outputs": [
    {
     "name": "stdout",
     "output_type": "stream",
     "text": [
      "Counter({'>70%': 54458, '<40%': 17372, '60-70%': 7647, '50-60%': 6040, '40-50%': 4975})\n"
     ]
    },
    {
     "data": {
      "text/html": [
       "<div>\n",
       "<style>\n",
       "    .dataframe thead tr:only-child th {\n",
       "        text-align: right;\n",
       "    }\n",
       "\n",
       "    .dataframe thead th {\n",
       "        text-align: left;\n",
       "    }\n",
       "\n",
       "    .dataframe tbody tr th {\n",
       "        vertical-align: top;\n",
       "    }\n",
       "</style>\n",
       "<table border=\"1\" class=\"dataframe\">\n",
       "  <thead>\n",
       "    <tr style=\"text-align: right;\">\n",
       "      <th>Crit</th>\n",
       "      <th>40-50%</th>\n",
       "      <th>50-60%</th>\n",
       "      <th>60-70%</th>\n",
       "      <th>&lt;40%</th>\n",
       "      <th>&gt;70%</th>\n",
       "    </tr>\n",
       "    <tr>\n",
       "      <th>Delay_Flag</th>\n",
       "      <th></th>\n",
       "      <th></th>\n",
       "      <th></th>\n",
       "      <th></th>\n",
       "      <th></th>\n",
       "    </tr>\n",
       "  </thead>\n",
       "  <tbody>\n",
       "    <tr>\n",
       "      <th>0</th>\n",
       "      <td>0.629548</td>\n",
       "      <td>0.625993</td>\n",
       "      <td>0.593697</td>\n",
       "      <td>0.657955</td>\n",
       "      <td>0.528958</td>\n",
       "    </tr>\n",
       "    <tr>\n",
       "      <th>1</th>\n",
       "      <td>0.370452</td>\n",
       "      <td>0.374007</td>\n",
       "      <td>0.406303</td>\n",
       "      <td>0.342045</td>\n",
       "      <td>0.471042</td>\n",
       "    </tr>\n",
       "  </tbody>\n",
       "</table>\n",
       "</div>"
      ],
      "text/plain": [
       "Crit          40-50%    50-60%    60-70%      <40%      >70%\n",
       "Delay_Flag                                                  \n",
       "0           0.629548  0.625993  0.593697  0.657955  0.528958\n",
       "1           0.370452  0.374007  0.406303  0.342045  0.471042"
      ]
     },
     "execution_count": 365,
     "metadata": {},
     "output_type": "execute_result"
    }
   ],
   "source": [
    "# Utilization Category\n",
    "print(Counter(data['Crit']))\n",
    "pd.crosstab(index=data['Delay_Flag'],columns=data['Crit']).apply(lambda x: x/x.sum(), axis=0)"
   ]
  },
  {
   "cell_type": "code",
   "execution_count": 366,
   "metadata": {},
   "outputs": [
    {
     "data": {
      "text/html": [
       "<div>\n",
       "<style>\n",
       "    .dataframe thead tr:only-child th {\n",
       "        text-align: right;\n",
       "    }\n",
       "\n",
       "    .dataframe thead th {\n",
       "        text-align: left;\n",
       "    }\n",
       "\n",
       "    .dataframe tbody tr th {\n",
       "        vertical-align: top;\n",
       "    }\n",
       "</style>\n",
       "<table border=\"1\" class=\"dataframe\">\n",
       "  <thead>\n",
       "    <tr style=\"text-align: right;\">\n",
       "      <th>Run Type</th>\n",
       "      <th>AIRNET</th>\n",
       "      <th>SFC</th>\n",
       "      <th>SPEED</th>\n",
       "    </tr>\n",
       "    <tr>\n",
       "      <th>Delay_Flag</th>\n",
       "      <th></th>\n",
       "      <th></th>\n",
       "      <th></th>\n",
       "    </tr>\n",
       "  </thead>\n",
       "  <tbody>\n",
       "    <tr>\n",
       "      <th>0</th>\n",
       "      <td>0.732166</td>\n",
       "      <td>0.58252</td>\n",
       "      <td>0.385866</td>\n",
       "    </tr>\n",
       "    <tr>\n",
       "      <th>1</th>\n",
       "      <td>0.267834</td>\n",
       "      <td>0.41748</td>\n",
       "      <td>0.614134</td>\n",
       "    </tr>\n",
       "  </tbody>\n",
       "</table>\n",
       "</div>"
      ],
      "text/plain": [
       "Run Type      AIRNET      SFC     SPEED\n",
       "Delay_Flag                             \n",
       "0           0.732166  0.58252  0.385866\n",
       "1           0.267834  0.41748  0.614134"
      ]
     },
     "execution_count": 366,
     "metadata": {},
     "output_type": "execute_result"
    }
   ],
   "source": [
    "# Run Type\n",
    "pd.crosstab(index=data['Delay_Flag'],columns=data['Run Type']).apply(lambda x: x/x.sum(), axis=0)"
   ]
  },
  {
   "cell_type": "code",
   "execution_count": 369,
   "metadata": {},
   "outputs": [
    {
     "data": {
      "text/plain": [
       "382"
      ]
     },
     "execution_count": 369,
     "metadata": {},
     "output_type": "execute_result"
    }
   ],
   "source": [
    "# Pcs\n",
    "(data['Pcs'] == 0)"
   ]
  },
  {
   "cell_type": "code",
   "execution_count": 379,
   "metadata": {},
   "outputs": [
    {
     "data": {
      "text/plain": [
       "415"
      ]
     },
     "execution_count": 379,
     "metadata": {},
     "output_type": "execute_result"
    }
   ],
   "source": [
    "((data['Consdwt'] == 0)).sum()"
   ]
  },
  {
   "cell_type": "code",
   "execution_count": 368,
   "metadata": {},
   "outputs": [
    {
     "name": "stdout",
     "output_type": "stream",
     "text": [
      "Runs with 0 distance: 0\n",
      "count    90492.000000\n",
      "mean       724.660056\n",
      "std        663.763875\n",
      "min          1.000000\n",
      "25%        220.000000\n",
      "50%        439.000000\n",
      "75%       1130.000000\n",
      "max       2905.000000\n",
      "Name: Distance, dtype: float64\n"
     ]
    }
   ],
   "source": [
    "# Distance(kms)\n",
    "print('Runs with 0 distance:',data.loc[data['Distance'] == 0,['CORG', 'CDST']].shape[0])\n",
    "print(data['Distance'].describe())"
   ]
  },
  {
   "cell_type": "code",
   "execution_count": 812,
   "metadata": {},
   "outputs": [
    {
     "name": "stderr",
     "output_type": "stream",
     "text": [
      "C:\\Program Files\\Anaconda3\\lib\\site-packages\\ipykernel\\__main__.py:12: RuntimeWarning: divide by zero encountered in log\n"
     ]
    }
   ],
   "source": [
    "# # WoE\n",
    "\n",
    "# def woe(df, var):\n",
    "    \n",
    "#     df_woe = df.groupby([var]).agg({var:'count','Delay_Flag':'sum'})\n",
    "#     df_woe = df_woe[[var,'Delay_Flag']]\n",
    "#     df_woe.columns = ['count','#1']\n",
    "#     df_woe['Feature'] = var\n",
    "#     df_woe = df_woe.reset_index()\n",
    "#     df_woe = df_woe[['Feature',var,'count','#1']]\n",
    "#     df_woe.columns = ['Feature','Feature Value','count','#1']\n",
    "#     df_woe['%1s'] = df_woe['#1']/df_woe['count']\n",
    "#     df_woe['%0s'] = 1 - df_woe['%1s']\n",
    "#     df_woe['WoE'] = np.log(df_woe['%0s']/df_woe['%1s'])\n",
    "#     var = var.replace('/','_')\n",
    "#     return df_woe\n",
    "\n",
    "# cat_var = ['Run Type', 'Route', 'CVEHTYPE', 'TYPE', 'Vendor','Crit','Intra/Inter', 'CCONTTYPE',\n",
    "#        'Sch/NSch/Spl', 'O_D', 'Month', 'Weekday',\n",
    "#        'Time_Interval', 'O_D_city_type']\n",
    "# df_woe = pd.DataFrame()\n",
    "# for var in cat_var:\n",
    "#     df_woe = df_woe.append(woe(data.copy(),var))\n",
    "    \n",
    "# df_woe.to_csv('D:/BlueDart/POC/Features_WoE.csv', index = False)"
   ]
  },
  {
   "cell_type": "code",
   "execution_count": 814,
   "metadata": {},
   "outputs": [],
   "source": []
  },
  {
   "cell_type": "code",
   "execution_count": null,
   "metadata": {
    "collapsed": true
   },
   "outputs": [],
   "source": []
  },
  {
   "cell_type": "code",
   "execution_count": null,
   "metadata": {
    "collapsed": true
   },
   "outputs": [],
   "source": []
  },
  {
   "cell_type": "code",
   "execution_count": null,
   "metadata": {
    "collapsed": true
   },
   "outputs": [],
   "source": []
  }
 ],
 "metadata": {
  "anaconda-cloud": {},
  "kernelspec": {
   "display_name": "Python 3",
   "language": "python",
   "name": "python3"
  },
  "language_info": {
   "codemirror_mode": {
    "name": "ipython",
    "version": 3
   },
   "file_extension": ".py",
   "mimetype": "text/x-python",
   "name": "python",
   "nbconvert_exporter": "python",
   "pygments_lexer": "ipython3",
   "version": "3.6.3"
  }
 },
 "nbformat": 4,
 "nbformat_minor": 2
}
